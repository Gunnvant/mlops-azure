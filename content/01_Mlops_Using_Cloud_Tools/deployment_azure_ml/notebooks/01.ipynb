{
 "cells": [
  {
   "cell_type": "code",
   "execution_count": 1,
   "id": "46ff5f24-9f00-46f3-9b08-d6e55ace9e92",
   "metadata": {},
   "outputs": [],
   "source": [
    "from azure.ai.ml import MLClient\n",
    "from azure.keyvault.secrets import SecretClient\n",
    "from azure.identity import DefaultAzureCredential"
   ]
  },
  {
   "cell_type": "code",
   "execution_count": 2,
   "id": "f7037ee7-298c-4ca8-bbc4-46b061337577",
   "metadata": {},
   "outputs": [],
   "source": [
    "keyVaultName = \"mobilepricinga6945442583\"\n",
    "KVUri = f\"https://{keyVaultName}.vault.azure.net\"\n",
    "credential = DefaultAzureCredential()\n",
    "client = SecretClient(vault_url=KVUri, credential=credential)"
   ]
  },
  {
   "cell_type": "code",
   "execution_count": 3,
   "id": "4403dbc6-3ec4-4e7d-a647-06e51a38e179",
   "metadata": {},
   "outputs": [],
   "source": [
    "subs_id = client.get_secret(\"subscription-id\").value\n",
    "rg_name = client.get_secret(\"ml-resource-group\").value\n",
    "ws_name = client.get_secret(\"ml-workspace-name\").value"
   ]
  },
  {
   "cell_type": "code",
   "execution_count": 4,
   "id": "502da8a8-0fa3-4dd5-aa09-1e9a7e5b4d3b",
   "metadata": {},
   "outputs": [],
   "source": [
    "ml_client = MLClient(\n",
    "    credential=credential,\n",
    "    subscription_id=subs_id,\n",
    "    resource_group_name=rg_name,\n",
    "    workspace_name=ws_name,\n",
    ")"
   ]
  },
  {
   "cell_type": "code",
   "execution_count": 6,
   "id": "8a6a9c80-1e64-4f5a-a4d5-08dc51d7196c",
   "metadata": {},
   "outputs": [
    {
     "name": "stderr",
     "output_type": "stream",
     "text": [
      "Downloading the model ExperimentRun/dcid.78cb94e5-27fb-4ee1-a13b-a3c72f6b5c79/mobile_pricing_model at .//mobile_pricing_model/mobile_pricing_model\n",
      "\n"
     ]
    }
   ],
   "source": [
    "ml_client.models.download(name=\"mobile_pricing_model\",version=\"2\",download_path=\"./\")"
   ]
  },
  {
   "cell_type": "markdown",
   "id": "c3b7e585-73c6-4255-88b3-2f1385cc0010",
   "metadata": {},
   "source": [
    "## Create a local endpoint"
   ]
  },
  {
   "cell_type": "code",
   "execution_count": 7,
   "id": "dd3ead20-0532-4255-a087-ee1e61685716",
   "metadata": {},
   "outputs": [],
   "source": [
    "from azure.ai.ml.entities import ManagedOnlineEndpoint"
   ]
  },
  {
   "cell_type": "code",
   "execution_count": 8,
   "id": "9bd799a7-4403-4cf8-b0eb-f8711af380dd",
   "metadata": {},
   "outputs": [],
   "source": [
    "import uuid\n",
    "# endpoint_name = \"mobile-pricing-endpoint-\" + str(uuid.uuid4())[:8]\n",
    "endpoint_name = \"mobile-pricing-endpoint-a116c8ce\""
   ]
  },
  {
   "cell_type": "code",
   "execution_count": 9,
   "id": "445b2361-9a17-4347-8c9a-cd2213e6a33c",
   "metadata": {},
   "outputs": [],
   "source": [
    "endpoint = ManagedOnlineEndpoint(\n",
    "    name = endpoint_name, \n",
    "    description=\"Endpoint for mobile pricing model\",\n",
    "    auth_mode=\"key\"\n",
    ")"
   ]
  },
  {
   "cell_type": "code",
   "execution_count": 20,
   "id": "c48ab2be-3037-42ca-9875-4a62394c5f83",
   "metadata": {},
   "outputs": [
    {
     "name": "stderr",
     "output_type": "stream",
     "text": [
      "Updating local endpoint (mobile-pricing-endpoint-a116c8ce) .Done (0m 5s)\n"
     ]
    },
    {
     "data": {
      "text/plain": [
       "ManagedOnlineEndpoint({'public_network_access': None, 'provisioning_state': 'Failed', 'scoring_uri': None, 'openapi_uri': None, 'name': 'mobile-pricing-endpoint-a116c8ce', 'description': 'Endpoint for mobile pricing model', 'tags': {}, 'properties': {}, 'print_as_yaml': True, 'id': None, 'Resource__source_path': None, 'base_path': PosixPath('/Users/gunnvantsaini/Library/CloudStorage/OneDrive-Personal/consulting/setu/mlops_bitbucket/content/01_Mlops_Using_Cloud_Tools/deployment_azure_ml/notebooks'), 'creation_context': None, 'serialize': <msrest.serialization.Serializer object at 0x121978970>, 'auth_mode': 'key', 'location': 'local', 'identity': None, 'traffic': {}, 'mirror_traffic': {}, 'kind': None})"
      ]
     },
     "execution_count": 20,
     "metadata": {},
     "output_type": "execute_result"
    }
   ],
   "source": [
    "ml_client.online_endpoints.begin_create_or_update(endpoint, local=True)"
   ]
  },
  {
   "cell_type": "markdown",
   "id": "7f7a31cd-6a2e-4d9f-9410-babfb1043462",
   "metadata": {},
   "source": [
    "## Create a local deployment"
   ]
  },
  {
   "cell_type": "code",
   "execution_count": 12,
   "id": "6a5b1ba3-da49-4078-898c-ae2a941de14e",
   "metadata": {},
   "outputs": [],
   "source": [
    "from azure.ai.ml.entities import ManagedOnlineDeployment,Model,Environment,CodeConfiguration"
   ]
  },
  {
   "cell_type": "code",
   "execution_count": 13,
   "id": "ab1b6bee-16c2-4f36-aa8b-1ad09e1b54a5",
   "metadata": {},
   "outputs": [],
   "source": [
    "model = Model(path=\"./mobile_pricing_model/mobile_pricing_model/model.pkl\")\n",
    "env = Environment(\n",
    "    conda_file=\"./mobile_pricing_model/mobile_pricing_model/conda.yaml\",\n",
    "    image=\"mcr.microsoft.com/azureml/openmpi4.1.0-ubuntu20.04:latest\",\n",
    ")\n",
    "\n",
    "blue_deployment = ManagedOnlineDeployment(\n",
    "    name=\"blue\",\n",
    "    endpoint_name=endpoint_name,\n",
    "    model=model,\n",
    "    environment=env,\n",
    "    instance_type=\"Standard_DS3_v2\",\n",
    "    instance_count=1,\n",
    ")"
   ]
  },
  {
   "cell_type": "code",
   "execution_count": 15,
   "id": "151a352a-027a-416c-8c5b-5151c82e40dd",
   "metadata": {},
   "outputs": [
    {
     "name": "stderr",
     "output_type": "stream",
     "text": [
      "Updating local deployment (mobile-pricing-endpoint-a116c8ce / blue) .\n",
      "Building Docker image from Dockerfile\n",
      "Step 1/6 : FROM mcr.microsoft.com/azureml/openmpi4.1.0-ubuntu20.04:latest\n",
      " ---> 712ae957f2d3\n",
      "Step 2/6 : RUN mkdir -p /var/azureml-app/\n",
      " ---> Using cache\n",
      " ---> 1f313b4a21cc\n",
      "Step 3/6 : WORKDIR /var/azureml-app/\n",
      " ---> Using cache\n",
      " ---> f09d8c13bac9\n",
      "Step 4/6 : COPY conda.yml /var/azureml-app/\n",
      " ---> Using cache\n",
      " ---> e88279d0c75c\n",
      "Step 5/6 : RUN conda env create -n inf-conda-env --file conda.yml\n",
      " ---> Using cache\n",
      " ---> 962f0f21c27d\n",
      "Step 6/6 : CMD [\"conda\", \"run\", \"--no-capture-output\", \"-n\", \"inf-conda-env\", \"runsvdir\", \"/var/runit\"]\n",
      " ---> Using cache\n",
      " ---> 73341bbb01af\n",
      "Successfully built 73341bbb01af\n",
      "Successfully tagged mobile-pricing-endpoint-a116c8ce:blue\n",
      "\n",
      "Starting up endpoint...Done (0m 20s)\n"
     ]
    },
    {
     "data": {
      "text/plain": [
       "ManagedOnlineDeployment({'private_network_connection': None, 'package_model': False, 'provisioning_state': 'Succeeded', 'endpoint_name': 'mobile-pricing-endpoint-a116c8ce', 'type': 'Managed', 'name': 'blue', 'description': None, 'tags': {}, 'properties': {}, 'print_as_yaml': True, 'id': None, 'Resource__source_path': None, 'base_path': PosixPath('/Users/gunnvantsaini/Library/CloudStorage/OneDrive-Personal/consulting/setu/mlops_bitbucket/content/01_Mlops_Using_Cloud_Tools/deployment_azure_ml/notebooks'), 'creation_context': None, 'serialize': <msrest.serialization.Serializer object at 0x1219c6440>, 'model': Model({'job_name': None, 'intellectual_property': None, 'is_anonymous': False, 'auto_increment_version': False, 'auto_delete_setting': None, 'name': '1e570cc5f3ed6d7077651f8dbd550c0e', 'description': None, 'tags': {}, 'properties': {}, 'print_as_yaml': True, 'id': None, 'Resource__source_path': None, 'base_path': PosixPath('/Users/gunnvantsaini/Library/CloudStorage/OneDrive-Personal/consulting/setu/mlops_bitbucket/content/01_Mlops_Using_Cloud_Tools/deployment_azure_ml/notebooks'), 'creation_context': None, 'serialize': <msrest.serialization.Serializer object at 0x121a72200>, 'version': '1', 'latest_version': None, 'path': '/Users/gunnvantsaini/Library/CloudStorage/OneDrive-Personal/consulting/setu/mlops_bitbucket/content/01_Mlops_Using_Cloud_Tools/deployment_azure_ml/notebooks/mobile_pricing_model/mobile_pricing_model/model.pkl', 'datastore': None, 'utc_time_created': None, 'flavors': None, 'arm_type': 'model_version', 'type': 'custom_model', 'stage': None}), 'code_configuration': None, 'environment': Environment({'intellectual_property': None, 'is_anonymous': False, 'auto_increment_version': False, 'auto_delete_setting': None, 'name': 'CliV2AnonymousEnvironment', 'description': None, 'tags': {}, 'properties': {}, 'print_as_yaml': True, 'id': None, 'Resource__source_path': None, 'base_path': PosixPath('/Users/gunnvantsaini/Library/CloudStorage/OneDrive-Personal/consulting/setu/mlops_bitbucket/content/01_Mlops_Using_Cloud_Tools/deployment_azure_ml/notebooks'), 'creation_context': None, 'serialize': <msrest.serialization.Serializer object at 0x121908ca0>, 'version': '40c2fdad7d6221a4f69a61add62a1f67', 'latest_version': None, 'conda_file': {'channels': ['conda-forge'], 'dependencies': ['python=3.8.5', 'pip', {'pip': ['mlflow', 'cloudpickle==1.6.0', 'psutil==5.8.0', 'scikit-learn==1.0.1']}], 'name': 'mlflow-env'}, 'image': 'mcr.microsoft.com/azureml/openmpi4.1.0-ubuntu20.04:latest', 'build': None, 'inference_config': None, 'os_type': None, 'arm_type': 'environment_version', 'conda_file_path': None, 'path': None, 'datastore': None, 'upload_hash': None, 'translated_conda_file': 'channels:\\n- conda-forge\\ndependencies:\\n- python=3.8.5\\n- pip\\n- pip:\\n  - mlflow\\n  - cloudpickle==1.6.0\\n  - psutil==5.8.0\\n  - scikit-learn==1.0.1\\nname: mlflow-env\\n'}), 'environment_variables': {}, 'app_insights_enabled': False, 'scale_settings': None, 'request_settings': None, 'liveness_probe': None, 'readiness_probe': None, 'instance_count': 1, 'arm_type': 'online_deployment', 'model_mount_path': None, 'instance_type': 'local', 'data_collector': None, 'egress_public_network_access': None})"
      ]
     },
     "execution_count": 15,
     "metadata": {},
     "output_type": "execute_result"
    }
   ],
   "source": [
    "ml_client.online_deployments.begin_create_or_update(blue_deployment,local=True)"
   ]
  },
  {
   "cell_type": "code",
   "execution_count": 17,
   "id": "b0c1d8a7-f5df-4caa-bf4e-c0728ee1c375",
   "metadata": {},
   "outputs": [],
   "source": [
    "endpoint = ml_client.online_endpoints.get(endpoint_name, local=True)\n",
    "scoring_uri = endpoint.scoring_uri"
   ]
  },
  {
   "cell_type": "code",
   "execution_count": 19,
   "id": "801e1077-ff77-4fa6-a2ee-33996e990da6",
   "metadata": {},
   "outputs": [
    {
     "data": {
      "text/plain": [
       "ManagedOnlineEndpoint({'public_network_access': None, 'provisioning_state': 'Failed', 'scoring_uri': None, 'openapi_uri': None, 'name': 'mobile-pricing-endpoint-a116c8ce', 'description': 'Endpoint for mobile pricing model', 'tags': {}, 'properties': {}, 'print_as_yaml': True, 'id': None, 'Resource__source_path': None, 'base_path': PosixPath('/Users/gunnvantsaini/Library/CloudStorage/OneDrive-Personal/consulting/setu/mlops_bitbucket/content/01_Mlops_Using_Cloud_Tools/deployment_azure_ml/notebooks'), 'creation_context': None, 'serialize': <msrest.serialization.Serializer object at 0x12190a8c0>, 'auth_mode': 'key', 'location': 'local', 'identity': None, 'traffic': {}, 'mirror_traffic': {}, 'kind': None})"
      ]
     },
     "execution_count": 19,
     "metadata": {},
     "output_type": "execute_result"
    }
   ],
   "source": [
    "endpoint"
   ]
  },
  {
   "cell_type": "code",
   "execution_count": null,
   "id": "5337a100-a732-46cf-af83-4994e27822f9",
   "metadata": {},
   "outputs": [],
   "source": []
  }
 ],
 "metadata": {
  "kernelspec": {
   "display_name": "Python 3 (ipykernel)",
   "language": "python",
   "name": "python3"
  },
  "language_info": {
   "codemirror_mode": {
    "name": "ipython",
    "version": 3
   },
   "file_extension": ".py",
   "mimetype": "text/x-python",
   "name": "python",
   "nbconvert_exporter": "python",
   "pygments_lexer": "ipython3",
   "version": "3.10.13"
  }
 },
 "nbformat": 4,
 "nbformat_minor": 5
}
