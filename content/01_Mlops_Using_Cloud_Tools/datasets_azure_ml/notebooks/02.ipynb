{
 "cells": [
  {
   "cell_type": "markdown",
   "id": "b48e978d-26c0-44f1-a2a9-cc938fe9ab62",
   "metadata": {},
   "source": [
    "### Creating data-asset using relative path to datastore"
   ]
  },
  {
   "cell_type": "code",
   "execution_count": null,
   "id": "ae0e3a78-e789-49b3-8d03-d72a7d128b9e",
   "metadata": {},
   "outputs": [],
   "source": [
    "from azure.ai.ml import MLClient\n",
    "from azure.identity import DefaultAzureCredential\n",
    "from azure.keyvault.secrets import SecretClient"
   ]
  },
  {
   "cell_type": "code",
   "execution_count": 2,
   "id": "db785fe7-fc09-4c46-87bb-fff3b0153679",
   "metadata": {},
   "outputs": [],
   "source": [
    "keyVaultName = \"mobilepricinga6945442583\"\n",
    "KVUri = f\"https://{keyVaultName}.vault.azure.net\"\n",
    "credential = DefaultAzureCredential()\n",
    "client = SecretClient(vault_url=KVUri, credential=credential)"
   ]
  },
  {
   "cell_type": "code",
   "execution_count": 4,
   "id": "1938e256-dfec-4e05-80c3-4d4d74f707ef",
   "metadata": {},
   "outputs": [],
   "source": [
    "credential = DefaultAzureCredential()"
   ]
  },
  {
   "cell_type": "code",
   "execution_count": 5,
   "id": "1ea97b99-f2b4-4f92-9f9d-d3aaab2ae6fc",
   "metadata": {},
   "outputs": [],
   "source": [
    "subs_id = client.get_secret(\"subscription-id\").value\n",
    "rg_name = client.get_secret(\"ml-resource-group\").value\n",
    "ws_name = client.get_secret(\"ml-workspace-name\").value"
   ]
  },
  {
   "cell_type": "code",
   "execution_count": 6,
   "id": "1102e663-3632-49ff-bea0-04e9568da74f",
   "metadata": {},
   "outputs": [],
   "source": [
    "ml_client = MLClient(\n",
    "    credential=credential,\n",
    "    subscription_id=subs_id,\n",
    "    resource_group_name=rg_name,\n",
    "    workspace_name=ws_name,\n",
    ")"
   ]
  },
  {
   "cell_type": "code",
   "execution_count": 11,
   "id": "1f875003-719f-4476-98f3-c00d972db985",
   "metadata": {},
   "outputs": [
    {
     "data": {
      "text/plain": [
       "AzureBlobDatastore({'type': <DatastoreType.AZURE_BLOB: 'AzureBlob'>, 'name': 'mobile_pricing_v2', 'description': 'training dataset stored in blob store', 'tags': {}, 'properties': {}, 'print_as_yaml': True, 'id': '/subscriptions/0aa1c63a-7a46-403c-91e4-8ec91264bc42/resourceGroups/rg-mobile-pricing-dev/providers/Microsoft.MachineLearningServices/workspaces/mobile-pricing-azml-dev/datastores/mobile_pricing_v2', 'Resource__source_path': None, 'base_path': '/Users/gunnvantsaini/Library/CloudStorage/OneDrive-Personal/consulting/setu/mlops_bitbucket/content/01_Mlops_Using_Cloud_Tools/datasets_azure_ml/notebooks', 'creation_context': None, 'serialize': <msrest.serialization.Serializer object at 0x120ea8b80>, 'credentials': {'type': 'account_key'}, 'container_name': 'silver', 'account_name': 'shareddatalakedev', 'endpoint': 'core.windows.net', 'protocol': 'https'})"
      ]
     },
     "execution_count": 11,
     "metadata": {},
     "output_type": "execute_result"
    }
   ],
   "source": [
    "## create a data-store\n",
    "from azure.ai.ml.entities import AzureBlobDatastore\n",
    "from azure.ai.ml.entities import AccountKeyConfiguration\n",
    "name = \"mobile_pricing_v2\"\n",
    "description = \"training dataset stored in blob store\"\n",
    "account_name = \"shareddatalakedev\"\n",
    "container_name = \"silver\"\n",
    "account_key = client.get_secret(\"storage-account-key\")\n",
    "store = AzureBlobDatastore(\n",
    "    name=name,\n",
    "    description=description,\n",
    "    account_name=account_name,\n",
    "    container_name=container_name,\n",
    "    protocol=\"https\",\n",
    "    credentials=AccountKeyConfiguration(account_key=account_key),\n",
    "properties = {\"subscription_id\":subs_id,\"resource_group_name\":rg_name}\n",
    ")\n",
    "\n",
    "ml_client.create_or_update(store)"
   ]
  },
  {
   "cell_type": "code",
   "execution_count": 13,
   "id": "5f5d1a36-d53a-43fb-a8d4-924de6fa30c3",
   "metadata": {},
   "outputs": [],
   "source": [
    "from azure.ai.ml.entities import Data\n",
    "from azure.ai.ml.constants import AssetTypes\n",
    "\n",
    "uri = \"azureml://datastores/mobile_pricing_v2/paths/mobile-pricing-train/01_01_24/train.csv\"\n",
    "VERSION=\"1\"\n",
    "mobile_pricing_train_data = Data(path=uri,\n",
    "                         type=AssetTypes.URI_FILE,\n",
    "    description=\"Train data for mobile pricing\",\n",
    "    name=\"mobile_pricing_train_data_v1\",\n",
    "    version=VERSION,\n",
    ")"
   ]
  },
  {
   "cell_type": "code",
   "execution_count": 14,
   "id": "7c7b475c-5927-43cb-9f8e-5f5494931439",
   "metadata": {},
   "outputs": [
    {
     "data": {
      "text/plain": [
       "Data({'skip_validation': False, 'mltable_schema_url': None, 'referenced_uris': None, 'type': 'uri_file', 'is_anonymous': False, 'auto_increment_version': False, 'auto_delete_setting': None, 'name': 'mobile_pricing_train_data_v1', 'description': 'Train data for mobile pricing', 'tags': {}, 'properties': {}, 'print_as_yaml': True, 'id': '/subscriptions/0aa1c63a-7a46-403c-91e4-8ec91264bc42/resourceGroups/rg-mobile-pricing-dev/providers/Microsoft.MachineLearningServices/workspaces/mobile-pricing-azml-dev/data/mobile_pricing_train_data_v1/versions/1', 'Resource__source_path': None, 'base_path': '/Users/gunnvantsaini/Library/CloudStorage/OneDrive-Personal/consulting/setu/mlops_bitbucket/content/01_Mlops_Using_Cloud_Tools/datasets_azure_ml/notebooks', 'creation_context': <azure.ai.ml.entities._system_data.SystemData object at 0x120c4b9a0>, 'serialize': <msrest.serialization.Serializer object at 0x1210c48b0>, 'version': '1', 'latest_version': None, 'path': 'azureml://subscriptions/0aa1c63a-7a46-403c-91e4-8ec91264bc42/resourcegroups/rg-mobile-pricing-dev/workspaces/mobile-pricing-azml-dev/datastores/mobile_pricing_v2/paths/mobile-pricing-train/01_01_24/train.csv', 'datastore': None})"
      ]
     },
     "execution_count": 14,
     "metadata": {},
     "output_type": "execute_result"
    }
   ],
   "source": [
    "ml_client.data.create_or_update(mobile_pricing_train_data)"
   ]
  }
 ],
 "metadata": {
  "kernelspec": {
   "display_name": "Python 3 (ipykernel)",
   "language": "python",
   "name": "python3"
  },
  "language_info": {
   "codemirror_mode": {
    "name": "ipython",
    "version": 3
   },
   "file_extension": ".py",
   "mimetype": "text/x-python",
   "name": "python",
   "nbconvert_exporter": "python",
   "pygments_lexer": "ipython3",
   "version": "3.10.13"
  }
 },
 "nbformat": 4,
 "nbformat_minor": 5
}
