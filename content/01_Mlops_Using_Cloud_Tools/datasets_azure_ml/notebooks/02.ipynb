{
 "cells": [
  {
   "cell_type": "markdown",
   "id": "4422ed8f-814c-449e-a79a-28b8a155dffb",
   "metadata": {},
   "source": [
    "### Register files directly from datalake"
   ]
  },
  {
   "cell_type": "code",
   "execution_count": 1,
   "id": "1a598bf3-10b7-4f2e-af14-1d9ae9c082f4",
   "metadata": {},
   "outputs": [],
   "source": [
    "from azure.ai.ml import MLClient\n",
    "from azure.identity import DefaultAzureCredential\n",
    "from azure.keyvault.secrets import SecretClient"
   ]
  },
  {
   "cell_type": "code",
   "execution_count": 2,
   "id": "1e951c1e-3155-4729-88ae-bd1c45105858",
   "metadata": {},
   "outputs": [],
   "source": [
    "keyVaultName = \"mobilepricinga6945442583\"\n",
    "KVUri = f\"https://{keyVaultName}.vault.azure.net\"\n",
    "credential = DefaultAzureCredential()\n",
    "client = SecretClient(vault_url=KVUri, credential=credential)"
   ]
  },
  {
   "cell_type": "code",
   "execution_count": 3,
   "id": "5f06f69c-da39-4d0a-b322-3f444bf60dbb",
   "metadata": {},
   "outputs": [],
   "source": [
    "credential = DefaultAzureCredential()"
   ]
  },
  {
   "cell_type": "code",
   "execution_count": 4,
   "id": "8feb97e6-e4fe-4dde-98d9-6b0da2ef3231",
   "metadata": {},
   "outputs": [],
   "source": [
    "subs_id = client.get_secret(\"subscription-id\").value\n",
    "rg_name = client.get_secret(\"ml-resource-group\").value\n",
    "ws_name = client.get_secret(\"ml-workspace-name\").value"
   ]
  },
  {
   "cell_type": "code",
   "execution_count": 5,
   "id": "b674d5bf-11b9-45f6-b1ee-4863cd0acac8",
   "metadata": {},
   "outputs": [],
   "source": [
    "ml_client = MLClient(\n",
    "    credential=credential,\n",
    "    subscription_id=subs_id,\n",
    "    resource_group_name=rg_name,\n",
    "    workspace_name=ws_name,\n",
    ")"
   ]
  },
  {
   "cell_type": "code",
   "execution_count": 6,
   "id": "f57ef66f-f444-4c28-90fb-f9de73a1d15c",
   "metadata": {},
   "outputs": [],
   "source": [
    "from azure.ai.ml.entities import Data"
   ]
  },
  {
   "cell_type": "code",
   "execution_count": 7,
   "id": "40fb0b06-cac1-4935-81e0-4ca8d5487dbd",
   "metadata": {},
   "outputs": [
    {
     "name": "stdout",
     "output_type": "stream",
     "text": [
      "azureml://subscriptions/0aa1c63a-7a46-403c-91e4-8ec91264bc42/resourcegroups/rg-mobile-pricing-dev/workspaces/mobile-pricing-azml-dev/datastores/mobile_pricing/paths/mobile-pricing-train/01_01_24/train.csv\n"
     ]
    }
   ],
   "source": [
    "subscription = subs_id\n",
    "resource_group = rg_name\n",
    "workspace = ws_name\n",
    "datastore_name = \"mobile_pricing\" \n",
    "path_on_datastore = \"mobile-pricing-train/01_01_24/train.csv\"## be careful with the path\n",
    "uri = f'azureml://subscriptions/{subscription}/resourcegroups/{resource_group}/workspaces/{workspace}/datastores/{datastore_name}/paths/{path_on_datastore}'\n",
    "print(uri)"
   ]
  },
  {
   "cell_type": "code",
   "execution_count": 9,
   "id": "4f5b127d-1283-4819-b390-11321d5084ef",
   "metadata": {},
   "outputs": [],
   "source": [
    "from azure.ai.ml.constants import AssetTypes\n",
    "VERSION=\"2\"\n",
    "mobile_pricing_train_data = Data(path=uri,\n",
    "                         type=AssetTypes.URI_FILE,\n",
    "    description=\"Train data for mobile pricing\",\n",
    "    name=\"mobile_pricing_train_data\",\n",
    "    version=VERSION,\n",
    ")"
   ]
  },
  {
   "cell_type": "code",
   "execution_count": 10,
   "id": "81f1317f-aaf1-4978-9029-e58da019edfd",
   "metadata": {},
   "outputs": [
    {
     "data": {
      "text/plain": [
       "Data({'skip_validation': False, 'mltable_schema_url': None, 'referenced_uris': None, 'type': 'uri_file', 'is_anonymous': False, 'auto_increment_version': False, 'auto_delete_setting': None, 'name': 'mobile_pricing_train_data', 'description': 'Train data for mobile pricing', 'tags': {}, 'properties': {}, 'print_as_yaml': True, 'id': '/subscriptions/0aa1c63a-7a46-403c-91e4-8ec91264bc42/resourceGroups/rg-mobile-pricing-dev/providers/Microsoft.MachineLearningServices/workspaces/mobile-pricing-azml-dev/data/mobile_pricing_train_data/versions/2', 'Resource__source_path': None, 'base_path': '/Users/gunnvantsaini/Library/CloudStorage/OneDrive-Personal/consulting/setu/mlops_azure/content/01_Mlops_Using_Cloud_Tools/datasets_azure_ml/notebooks', 'creation_context': <azure.ai.ml.entities._system_data.SystemData object at 0x103fbca60>, 'serialize': <msrest.serialization.Serializer object at 0x120c87a60>, 'version': '2', 'latest_version': None, 'path': 'azureml://subscriptions/0aa1c63a-7a46-403c-91e4-8ec91264bc42/resourcegroups/rg-mobile-pricing-dev/workspaces/mobile-pricing-azml-dev/datastores/mobile_pricing/paths/mobile-pricing-train/01_01_24/train.csv', 'datastore': None})"
      ]
     },
     "execution_count": 10,
     "metadata": {},
     "output_type": "execute_result"
    }
   ],
   "source": [
    "ml_client.data.create_or_update(mobile_pricing_train_data)"
   ]
  },
  {
   "cell_type": "code",
   "execution_count": null,
   "id": "a61ee039-17e8-4413-a136-fd7b26f60d48",
   "metadata": {},
   "outputs": [],
   "source": []
  }
 ],
 "metadata": {
  "kernelspec": {
   "display_name": "Python 3 (ipykernel)",
   "language": "python",
   "name": "python3"
  },
  "language_info": {
   "codemirror_mode": {
    "name": "ipython",
    "version": 3
   },
   "file_extension": ".py",
   "mimetype": "text/x-python",
   "name": "python",
   "nbconvert_exporter": "python",
   "pygments_lexer": "ipython3",
   "version": "3.10.13"
  }
 },
 "nbformat": 4,
 "nbformat_minor": 5
}
