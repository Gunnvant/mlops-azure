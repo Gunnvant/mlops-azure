{
 "cells": [
  {
   "cell_type": "markdown",
   "id": "fad506db-fc19-479f-beca-eb38ff84383c",
   "metadata": {},
   "source": [
    "## Batch Deploymnet\n",
    "\n",
    "Most deployment use cases don't require real-time inference. In batch deployment:\n",
    "\n",
    "1. A batch endpoint is provisioned\n",
    "2. A compute cluster is provisioned\n",
    "3. Input data path is provided\n",
    "\n",
    "The batch deployment can be scheduled via ADF or event grid. For testing one can invoke a batch deployment using azure ml sdk"
   ]
  },
  {
   "cell_type": "code",
   "execution_count": 1,
   "id": "d4f15fe1-8f79-4733-b1c4-16e7d828545c",
   "metadata": {},
   "outputs": [],
   "source": [
    "from azure.ai.ml import MLClient\n",
    "from azure.keyvault.secrets import SecretClient\n",
    "from azure.identity import DefaultAzureCredential"
   ]
  },
  {
   "cell_type": "markdown",
   "id": "d1d1fa15-0764-4266-93d7-31b642caba90",
   "metadata": {},
   "source": [
    "### Get Credentials"
   ]
  },
  {
   "cell_type": "code",
   "execution_count": 2,
   "id": "facdf692-d33d-4dd6-b779-e0f44decf6c5",
   "metadata": {},
   "outputs": [],
   "source": [
    "keyVaultName = \"mobilepricinga6945442583\"\n",
    "KVUri = f\"https://{keyVaultName}.vault.azure.net\"\n",
    "credential = DefaultAzureCredential()\n",
    "client = SecretClient(vault_url=KVUri, credential=credential)"
   ]
  },
  {
   "cell_type": "code",
   "execution_count": 3,
   "id": "aee9bc91-aba5-477a-ab60-088b6f738c64",
   "metadata": {},
   "outputs": [],
   "source": [
    "subs_id = client.get_secret(\"subscription-id\").value\n",
    "rg_name = client.get_secret(\"ml-resource-group\").value\n",
    "ws_name = client.get_secret(\"ml-workspace-name\").value"
   ]
  },
  {
   "cell_type": "markdown",
   "id": "00907a29-3b42-4e33-a50a-71eab94a37a1",
   "metadata": {},
   "source": [
    "### Create Client"
   ]
  },
  {
   "cell_type": "code",
   "execution_count": 4,
   "id": "c5398f26-8ada-4f65-b54b-841f6ebbf306",
   "metadata": {},
   "outputs": [],
   "source": [
    "ml_client = MLClient(\n",
    "    credential=credential,\n",
    "    subscription_id=subs_id,\n",
    "    resource_group_name=rg_name,\n",
    "    workspace_name=ws_name,\n",
    ")"
   ]
  },
  {
   "cell_type": "code",
   "execution_count": 5,
   "id": "594b937d-134b-401d-9a89-c9cd43ca7fb4",
   "metadata": {},
   "outputs": [],
   "source": [
    "#ml_client.models.download(name=\"mobile_pricing_model\",version=\"2\",download_path=\".\")"
   ]
  },
  {
   "cell_type": "markdown",
   "id": "4e6cc9a8-7720-4380-a826-d16a102bf8a9",
   "metadata": {},
   "source": [
    "### Use the model from workspace"
   ]
  },
  {
   "cell_type": "code",
   "execution_count": 6,
   "id": "edbf48ec-e876-4409-99cc-c9c3ab639119",
   "metadata": {},
   "outputs": [],
   "source": [
    "model = ml_client.models.get(name=\"mobile_pricing_model\",version=\"2\")"
   ]
  },
  {
   "cell_type": "markdown",
   "id": "40272349-904d-4944-b7dc-ca1c28ab2ee4",
   "metadata": {},
   "source": [
    "### Create compute infrastructure"
   ]
  },
  {
   "cell_type": "code",
   "execution_count": 7,
   "id": "6302949b-0382-4b57-ad2f-59ff0edd6614",
   "metadata": {},
   "outputs": [],
   "source": [
    "from azure.ai.ml.entities import BatchEndpoint, ModelBatchDeployment, ModelBatchDeploymentSettings, PipelineComponentBatchDeployment, Model, AmlCompute, Data, BatchRetrySettings, CodeConfiguration, Environment, Data"
   ]
  },
  {
   "cell_type": "code",
   "execution_count": 9,
   "id": "dbe32839-be2b-4e30-b239-f9b5cbb5c72d",
   "metadata": {},
   "outputs": [],
   "source": [
    "compute_name = \"batch-cluster\"\n",
    "if not any(filter(lambda m: m.name == compute_name, ml_client.compute.list())):\n",
    "    compute_cluster = AmlCompute(\n",
    "        name=compute_name, description=\"amlcompute\", min_instances=0, max_instances=2\n",
    "    )\n",
    "    ml_client.begin_create_or_update(compute_cluster).result()"
   ]
  },
  {
   "cell_type": "markdown",
   "id": "03d7ca58-b57b-4cb5-9c18-89bd4a04ebe9",
   "metadata": {},
   "source": [
    "### Create Endpoint"
   ]
  },
  {
   "cell_type": "code",
   "execution_count": 10,
   "id": "4893cb2c-8894-4af1-8c5f-756d68d3d524",
   "metadata": {},
   "outputs": [],
   "source": [
    "endpoint_name = \"mobile-pricing-batch-endpoint\"\n",
    "endpoint = BatchEndpoint(\n",
    "    name=endpoint_name,\n",
    "    description=\"A mobile pricing batch inference classifier\",\n",
    ")"
   ]
  },
  {
   "cell_type": "code",
   "execution_count": 11,
   "id": "b6ed6e0b-47bf-4250-b1ad-219cdf5654d4",
   "metadata": {},
   "outputs": [
    {
     "data": {
      "text/plain": [
       "BatchEndpoint({'scoring_uri': 'https://mobile-pricing-batch-endpoint.eastus.inference.ml.azure.com/jobs', 'openapi_uri': None, 'provisioning_state': 'Succeeded', 'name': 'mobile-pricing-batch-endpoint', 'description': 'A mobile pricing batch inference classifier', 'tags': {}, 'properties': {'BatchEndpointCreationApiVersion': '2022-05-01', 'azureml.onlineendpointid': '/subscriptions/0aa1c63a-7a46-403c-91e4-8ec91264bc42/resourceGroups/rg-mobile-pricing-dev/providers/Microsoft.MachineLearningServices/workspaces/mobile-pricing-azml-dev/batchEndpoints/mobile-pricing-batch-endpoint'}, 'print_as_yaml': True, 'id': '/subscriptions/0aa1c63a-7a46-403c-91e4-8ec91264bc42/resourceGroups/rg-mobile-pricing-dev/providers/Microsoft.MachineLearningServices/workspaces/mobile-pricing-azml-dev/batchEndpoints/mobile-pricing-batch-endpoint', 'Resource__source_path': None, 'base_path': '/Users/gunnvantsaini/Library/CloudStorage/OneDrive-Personal/consulting/setu/mlops_bitbucket/content/01_Mlops_Using_Cloud_Tools/deployment_azure_ml/notebooks', 'creation_context': None, 'serialize': <msrest.serialization.Serializer object at 0x12476b760>, 'auth_mode': 'aad_token', 'location': 'eastus', 'defaults': <azure.ai.ml._restclient.v2022_05_01.models._models_py3.BatchEndpointDefaults object at 0x12476b010>})"
      ]
     },
     "execution_count": 11,
     "metadata": {},
     "output_type": "execute_result"
    }
   ],
   "source": [
    "ml_client.batch_endpoints.begin_create_or_update(endpoint).result()"
   ]
  },
  {
   "cell_type": "code",
   "execution_count": null,
   "id": "92671f1b-b55f-4760-b32c-d24ad1d39a8f",
   "metadata": {},
   "outputs": [],
   "source": []
  }
 ],
 "metadata": {
  "kernelspec": {
   "display_name": "Python 3 (ipykernel)",
   "language": "python",
   "name": "python3"
  },
  "language_info": {
   "codemirror_mode": {
    "name": "ipython",
    "version": 3
   },
   "file_extension": ".py",
   "mimetype": "text/x-python",
   "name": "python",
   "nbconvert_exporter": "python",
   "pygments_lexer": "ipython3",
   "version": "3.10.13"
  }
 },
 "nbformat": 4,
 "nbformat_minor": 5
}
