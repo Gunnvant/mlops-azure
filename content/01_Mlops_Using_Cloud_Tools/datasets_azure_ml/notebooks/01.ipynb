{
 "cells": [
  {
   "cell_type": "markdown",
   "metadata": {
    "nteract": {
     "transient": {
      "deleting": false
     }
    }
   },
   "source": [
    "## Working with datasets and datastores\n",
    "This notebook explains how to work  with datasets  stored in azure data lake. \n",
    "\n",
    "## Files on datalake \n",
    "\n",
    "We have created a storage account named `shareddatalakedev`. This will simulate a datalake for us. Usually, files for ml are provisioned by a data engineering team and data science teams use the datasets maintained by them.\n",
    "\n",
    "These datasets are maintained on a datalake. So the starting point for any ml/mlops project is the dataset provisioned by the data engineering team.\n",
    "\n",
    "In our case `shareddatalakedev` represents a datalake. In this storage account we have containers named:\n",
    "\n",
    "- silver\n",
    "- bronze\n",
    "\n",
    "The silver container contains the modelling data in our case. There are datasets present for the month of january for both model training and testing.\n",
    "\n",
    "We will need to pull data from this container and register it in azure-ml workspace.\n",
    "\n",
    "## Register blob storage as a datastore\n",
    "\n",
    "Register data in `shareddatalakedev/sliver` as a datastore\n",
    "\n",
    "For this you will need to access the storage account key. Use azure cli `az storage account keys list --resource-group <resource group containing storage account> --account-name <storageaccountname>` to view the keys\n"
   ]
  },
  {
   "cell_type": "code",
   "execution_count": null,
   "metadata": {
    "collapsed": false,
    "jupyter": {
     "outputs_hidden": false,
     "source_hidden": false
    },
    "nteract": {
     "transient": {
      "deleting": false
     }
    }
   },
   "outputs": [],
   "source": [
    "## create a client\n",
    "from azure.ai.ml import MLClient\n",
    "from azure.identity import DefaultAzureCredential\n",
    "from azure.ai.ml.entities import AzureBlobDatastore\n",
    "from azure.ai.ml.entities import AccountKeyConfiguration\n",
    "\n",
    "credential = DefaultAzureCredential()\n",
    "\n",
    "subs_id = '0aa1c63a-7a46-403c-91e4-8ec91264bc42'\n",
    "rg_name = 'rg-mobile-pricing-dev' \n",
    "ws_name = 'mobile-pricing-azml-dev'\n",
    "ml_client = MLClient(\n",
    "    credential=credential,\n",
    "    subscription_id=subs_id,\n",
    "    resource_group_name=rg_name,\n",
    "    workspace_name=ws_name,\n",
    ")\n",
    "## create a data-store\n",
    "name = \"mobile_pricing\"\n",
    "description = \"training dataset stored in blob store\"\n",
    "account_name = \"shareddatalakedev\"\n",
    "container_name = \"silver\"\n",
    "account_key = \"\"## you need to fill your account key\n",
    "store = AzureBlobDatastore(\n",
    "    name=name,\n",
    "    description=description,\n",
    "    account_name=account_name,\n",
    "    container_name=container_name,\n",
    "    protocol=\"https\",\n",
    "    credentials=AccountKeyConfiguration(account_key=account_key)\n",
    ")\n",
    "\n",
    "ml_client.create_or_update(store)"
   ]
  },
  {
   "cell_type": "markdown",
   "metadata": {},
   "source": [
    "**The datastore will now appear in the azure-ml workspace**\n",
    "\n",
    "![](../../../../images/datastore1.png)\n",
    "\n",
    "**One can click on the datastore and we will be able to see the paths on the silver container in our storage account**\n",
    "\n",
    "![](../../../../images/datastore2.png)"
   ]
  },
  {
   "cell_type": "markdown",
   "metadata": {},
   "source": [
    "After this action you will be able to see the datastore in named `mobile_pricing`.  <to be added: images and text explaning how the UI will look>\n",
    "\n",
    "### Register dataset from datastore\n",
    "\n",
    "Once a datastore has been created, one can register a dataset and then version control it. "
   ]
  },
  {
   "cell_type": "code",
   "execution_count": null,
   "metadata": {},
   "outputs": [],
   "source": [
    "from azure.ai.ml.entities import Data\n",
    "from azure.ai.ml.constants import AssetTypes\n",
    "subscription = \"0aa1c63a-7a46-403c-91e4-8ec91264bc42\"\n",
    "resource_group = \"rg-mobile-pricing-dev\"\n",
    "workspace = \"mobile-pricing-azml-dev\"\n",
    "datastore_name = \"mobile_pricing\" \n",
    "path_on_datastore = \"./mobile-pricing-train/01_01_24/train.csv\"## be careful with the path\n",
    "uri = f'azureml://subscriptions/{subscription}/resourcegroups/{resource_group}/workspaces/{workspace}/datastores/{datastore_name}/paths/{path_on_datastore}'\n",
    "print(uri)"
   ]
  },
  {
   "cell_type": "code",
   "execution_count": null,
   "metadata": {},
   "outputs": [],
   "source": [
    "VERSION=\"1\"\n",
    "mobile_pricing_train_data = Data(path=uri,\n",
    "                         type=AssetTypes.URI_FILE,\n",
    "    description=\"Train data for mobile pricing\",\n",
    "    name=\"mobile_pricing_train_data\",\n",
    "    version=VERSION,\n",
    ")"
   ]
  },
  {
   "cell_type": "code",
   "execution_count": null,
   "metadata": {},
   "outputs": [],
   "source": [
    "ml_client.data.create_or_update(mobile_pricing_train_data)"
   ]
  },
  {
   "cell_type": "markdown",
   "metadata": {},
   "source": [
    "**Once the dataset is registered we can see it in the datsets tab**\n",
    "![](../../../../images/dataset1.png)\n",
    "\n",
    "**On clicking on the dataste we can see the detailed view**\n",
    "\n",
    "![](../../../../images/dataset2.png)"
   ]
  },
  {
   "cell_type": "code",
   "execution_count": null,
   "metadata": {},
   "outputs": [],
   "source": [
    "import pandas as pd"
   ]
  },
  {
   "cell_type": "code",
   "execution_count": null,
   "metadata": {},
   "outputs": [],
   "source": [
    "data_asset = ml_client.data.get(\"mobile_pricing_train_data\", version=\"1\")\n",
    "df = pd.read_csv(data_asset.path)"
   ]
  },
  {
   "cell_type": "code",
   "execution_count": null,
   "metadata": {},
   "outputs": [],
   "source": [
    "df.head(2)"
   ]
  },
  {
   "cell_type": "markdown",
   "metadata": {},
   "source": [
    "## Storing secrets \n",
    "\n",
    "To access the storage account we had to generate a secret access key. Its not a good practice to store the secrets in our notebook/source code. We should ideally store it in some secure place and then retrieve it from there. We can use `azure-key-vault` service to store our secrets.\n",
    "\n",
    "We are going to store the following secrets in key-vault and then access these secrets from there:\n",
    "\n",
    "1. subscription-id\n",
    "2. ml-resource-group\n",
    "3. ml-workspace-name\n",
    "4. storage-account-name\n",
    "5. storage-account-key\n",
    "\n",
    "Whenever azure-ml workspace is created, we get a key-vault as part of azure ml workspace. We can use that keyvault to access the storage account keys."
   ]
  },
  {
   "cell_type": "code",
   "execution_count": null,
   "metadata": {},
   "outputs": [],
   "source": [
    "from azure.keyvault.secrets import SecretClient\n",
    "from azure.identity import DefaultAzureCredential\n",
    "keyVaultName = \"mobilepricinga6945442583\"\n",
    "KVUri = f\"https://{keyVaultName}.vault.azure.net\"\n",
    "credential = DefaultAzureCredential()\n",
    "client = SecretClient(vault_url=KVUri, credential=credential)\n",
    "account_key = client.get_secret(\"storage-account-key\")"
   ]
  },
  {
   "cell_type": "code",
   "execution_count": null,
   "metadata": {},
   "outputs": [],
   "source": [
    "# account_key.value ->this will have the storage account key"
   ]
  },
  {
   "cell_type": "markdown",
   "metadata": {},
   "source": [
    "## Other ways of accessing data from azure storage account\n",
    "\n",
    "Apart from generating access key and storing it in key-vault, one can do the followin to allow access to data:\n",
    "\n",
    "1. Give ml-workspace `Storage Blob Data Contributor` accesss\n",
    "2. Create a service principal and give it access to the storage account. Save the service principal specific secrets in a key-vault"
   ]
  },
  {
   "cell_type": "code",
   "execution_count": 1,
   "metadata": {},
   "outputs": [],
   "source": [
    "from azure.ai.ml.entities import AzureBlobDatastore"
   ]
  },
  {
   "cell_type": "code",
   "execution_count": 3,
   "metadata": {},
   "outputs": [
    {
     "data": {
      "text/plain": [
       "\u001b[0;31mInit signature:\u001b[0m\n",
       "\u001b[0mAzureBlobDatastore\u001b[0m\u001b[0;34m(\u001b[0m\u001b[0;34m\u001b[0m\n",
       "\u001b[0;34m\u001b[0m    \u001b[0;34m*\u001b[0m\u001b[0;34m,\u001b[0m\u001b[0;34m\u001b[0m\n",
       "\u001b[0;34m\u001b[0m    \u001b[0mname\u001b[0m\u001b[0;34m:\u001b[0m \u001b[0mstr\u001b[0m\u001b[0;34m,\u001b[0m\u001b[0;34m\u001b[0m\n",
       "\u001b[0;34m\u001b[0m    \u001b[0maccount_name\u001b[0m\u001b[0;34m:\u001b[0m \u001b[0mstr\u001b[0m\u001b[0;34m,\u001b[0m\u001b[0;34m\u001b[0m\n",
       "\u001b[0;34m\u001b[0m    \u001b[0mcontainer_name\u001b[0m\u001b[0;34m:\u001b[0m \u001b[0mstr\u001b[0m\u001b[0;34m,\u001b[0m\u001b[0;34m\u001b[0m\n",
       "\u001b[0;34m\u001b[0m    \u001b[0mdescription\u001b[0m\u001b[0;34m:\u001b[0m \u001b[0mOptional\u001b[0m\u001b[0;34m[\u001b[0m\u001b[0mstr\u001b[0m\u001b[0;34m]\u001b[0m \u001b[0;34m=\u001b[0m \u001b[0;32mNone\u001b[0m\u001b[0;34m,\u001b[0m\u001b[0;34m\u001b[0m\n",
       "\u001b[0;34m\u001b[0m    \u001b[0mtags\u001b[0m\u001b[0;34m:\u001b[0m \u001b[0mOptional\u001b[0m\u001b[0;34m[\u001b[0m\u001b[0mDict\u001b[0m\u001b[0;34m]\u001b[0m \u001b[0;34m=\u001b[0m \u001b[0;32mNone\u001b[0m\u001b[0;34m,\u001b[0m\u001b[0;34m\u001b[0m\n",
       "\u001b[0;34m\u001b[0m    \u001b[0mendpoint\u001b[0m\u001b[0;34m:\u001b[0m \u001b[0mOptional\u001b[0m\u001b[0;34m[\u001b[0m\u001b[0mstr\u001b[0m\u001b[0;34m]\u001b[0m \u001b[0;34m=\u001b[0m \u001b[0;32mNone\u001b[0m\u001b[0;34m,\u001b[0m\u001b[0;34m\u001b[0m\n",
       "\u001b[0;34m\u001b[0m    \u001b[0mprotocol\u001b[0m\u001b[0;34m:\u001b[0m \u001b[0mstr\u001b[0m \u001b[0;34m=\u001b[0m \u001b[0;34m'https'\u001b[0m\u001b[0;34m,\u001b[0m\u001b[0;34m\u001b[0m\n",
       "\u001b[0;34m\u001b[0m    \u001b[0mproperties\u001b[0m\u001b[0;34m:\u001b[0m \u001b[0mOptional\u001b[0m\u001b[0;34m[\u001b[0m\u001b[0mDict\u001b[0m\u001b[0;34m]\u001b[0m \u001b[0;34m=\u001b[0m \u001b[0;32mNone\u001b[0m\u001b[0;34m,\u001b[0m\u001b[0;34m\u001b[0m\n",
       "\u001b[0;34m\u001b[0m    \u001b[0mcredentials\u001b[0m\u001b[0;34m:\u001b[0m \u001b[0mUnion\u001b[0m\u001b[0;34m[\u001b[0m\u001b[0mazure\u001b[0m\u001b[0;34m.\u001b[0m\u001b[0mai\u001b[0m\u001b[0;34m.\u001b[0m\u001b[0mml\u001b[0m\u001b[0;34m.\u001b[0m\u001b[0mentities\u001b[0m\u001b[0;34m.\u001b[0m\u001b[0m_credentials\u001b[0m\u001b[0;34m.\u001b[0m\u001b[0mAccountKeyConfiguration\u001b[0m\u001b[0;34m,\u001b[0m \u001b[0mazure\u001b[0m\u001b[0;34m.\u001b[0m\u001b[0mai\u001b[0m\u001b[0;34m.\u001b[0m\u001b[0mml\u001b[0m\u001b[0;34m.\u001b[0m\u001b[0mentities\u001b[0m\u001b[0;34m.\u001b[0m\u001b[0m_credentials\u001b[0m\u001b[0;34m.\u001b[0m\u001b[0mSasTokenConfiguration\u001b[0m\u001b[0;34m,\u001b[0m \u001b[0mNoneType\u001b[0m\u001b[0;34m]\u001b[0m \u001b[0;34m=\u001b[0m \u001b[0;32mNone\u001b[0m\u001b[0;34m,\u001b[0m\u001b[0;34m\u001b[0m\n",
       "\u001b[0;34m\u001b[0m    \u001b[0;34m**\u001b[0m\u001b[0mkwargs\u001b[0m\u001b[0;34m,\u001b[0m\u001b[0;34m\u001b[0m\n",
       "\u001b[0;34m\u001b[0m\u001b[0;34m)\u001b[0m\u001b[0;34m\u001b[0m\u001b[0;34m\u001b[0m\u001b[0m\n",
       "\u001b[0;31mDocstring:\u001b[0m     \n",
       "Azure blob storage that is linked to an Azure ML workspace.\n",
       "\n",
       ":param name: Name of the datastore.\n",
       ":type name: str\n",
       ":param account_name: Name of the Azure storage account.\n",
       ":type account_name: str\n",
       ":param container_name: Name of the container.\n",
       ":type container_name: str\n",
       ":param description: Description of the resource.\n",
       ":type description: str\n",
       ":param tags: Tag dictionary. Tags can be added, removed, and updated.\n",
       ":type tags: dict[str, str]\n",
       ":param endpoint: Endpoint to use to connect with the Azure storage account.\n",
       ":type endpoint: str\n",
       ":param protocol: Protocol to use to connect with the Azure storage account.\n",
       ":type protocol: str\n",
       ":param properties: The asset property dictionary.\n",
       ":type properties: dict[str, str]\n",
       ":param credentials: Credentials to use for Azure ML workspace to connect to the storage.\n",
       ":type credentials: Union[AccountKeySection, SasSection]\n",
       ":param kwargs: A dictionary of additional configuration parameters.\n",
       ":type kwargs: dict\n",
       "\u001b[0;31mFile:\u001b[0m           ~/miniforge3/envs/azure-ml/lib/python3.10/site-packages/azure/ai/ml/entities/_datastore/azure_storage.py\n",
       "\u001b[0;31mType:\u001b[0m           ABCMeta\n",
       "\u001b[0;31mSubclasses:\u001b[0m     "
      ]
     },
     "metadata": {},
     "output_type": "display_data"
    }
   ],
   "source": [
    "?AzureBlobDatastore"
   ]
  },
  {
   "cell_type": "code",
   "execution_count": null,
   "metadata": {},
   "outputs": [],
   "source": []
  }
 ],
 "metadata": {
  "kernel_info": {
   "name": "python310-sdkv2"
  },
  "kernelspec": {
   "display_name": "Python 3 (ipykernel)",
   "language": "python",
   "name": "python3"
  },
  "language_info": {
   "codemirror_mode": {
    "name": "ipython",
    "version": 3
   },
   "file_extension": ".py",
   "mimetype": "text/x-python",
   "name": "python",
   "nbconvert_exporter": "python",
   "pygments_lexer": "ipython3",
   "version": "3.10.13"
  },
  "microsoft": {
   "host": {
    "AzureML": {
     "notebookHasBeenCompleted": true
    }
   },
   "ms_spell_check": {
    "ms_spell_check_language": "en"
   }
  },
  "nteract": {
   "version": "nteract-front-end@1.0.0"
  }
 },
 "nbformat": 4,
 "nbformat_minor": 4
}
