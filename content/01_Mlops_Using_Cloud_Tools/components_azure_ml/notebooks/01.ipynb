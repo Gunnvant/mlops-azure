{
 "cells": [
  {
   "cell_type": "markdown",
   "id": "af315867-b81a-4572-b590-97942a3945f7",
   "metadata": {},
   "source": [
    "## Model training components"
   ]
  },
  {
   "cell_type": "code",
   "execution_count": 1,
   "id": "dfd0f84b-fc0a-4d99-98c8-d515777675a4",
   "metadata": {},
   "outputs": [],
   "source": [
    "from azure.ai.ml import MLClient\n",
    "from azure.identity import DefaultAzureCredential\n",
    "from azure.ai.ml.dsl import pipeline\n",
    "from azure.ai.ml import load_component\n",
    "from azure.keyvault.secrets import SecretClient"
   ]
  },
  {
   "cell_type": "markdown",
   "id": "cd317643-960f-4704-b73e-6ce838fd4888",
   "metadata": {},
   "source": [
    "### Configure key-vault to get secrets"
   ]
  },
  {
   "cell_type": "code",
   "execution_count": 2,
   "id": "59f05486-80b0-4ae9-a138-b1e52522e790",
   "metadata": {},
   "outputs": [],
   "source": [
    "keyVaultName = \"mobilepricinga6945442583\"\n",
    "KVUri = f\"https://{keyVaultName}.vault.azure.net\"\n",
    "credential = DefaultAzureCredential()\n",
    "client = SecretClient(vault_url=KVUri, credential=credential)"
   ]
  },
  {
   "cell_type": "markdown",
   "id": "0c18b10a-aa33-4667-8d8d-34cc9d2417ca",
   "metadata": {},
   "source": [
    "### Authenticate"
   ]
  },
  {
   "cell_type": "code",
   "execution_count": 3,
   "id": "9315abc0-dd88-4d4f-a297-996ef91ebe96",
   "metadata": {},
   "outputs": [],
   "source": [
    "credential = DefaultAzureCredential()"
   ]
  },
  {
   "cell_type": "markdown",
   "id": "dbe31ebe-53f5-44c4-b490-2f20481dd006",
   "metadata": {},
   "source": [
    "### Get Secrets from key-vault"
   ]
  },
  {
   "cell_type": "code",
   "execution_count": 4,
   "id": "641f7d48-1a8d-44f8-86b0-f038b989e193",
   "metadata": {},
   "outputs": [],
   "source": [
    "subs_id = client.get_secret(\"subscription-id\").value\n",
    "rg_name = client.get_secret(\"ml-resource-group\").value\n",
    "ws_name = client.get_secret(\"ml-workspace-name\").value"
   ]
  },
  {
   "cell_type": "markdown",
   "id": "0644425c-e203-422d-8bd6-bc2c1609dc56",
   "metadata": {},
   "source": [
    "### Create Client"
   ]
  },
  {
   "cell_type": "code",
   "execution_count": 5,
   "id": "3cbe63ff-66a5-4795-b84e-bb97f459cdd7",
   "metadata": {},
   "outputs": [],
   "source": [
    "ml_client = MLClient(\n",
    "    credential=credential,\n",
    "    subscription_id=subs_id,\n",
    "    resource_group_name=rg_name,\n",
    "    workspace_name=ws_name,\n",
    ")"
   ]
  },
  {
   "cell_type": "markdown",
   "id": "bba8f65c-838e-42ee-9454-8370c7c554db",
   "metadata": {},
   "source": [
    "### Define data preparation component\n",
    "\n",
    "Azure ml supports mlflow style pipeline components that are defined using a yaml file.\n",
    "\n",
    "The structure of a yaml file is as given below\n",
    "\n",
    "```yaml\n",
    "name: data_prep_mobile_pricing\n",
    "display_name: Prepare data for mobile pricing model\n",
    "# version: 1 # Not specifying a version will automatically update the version\n",
    "type: command\n",
    "inputs:\n",
    "  train_data: \n",
    "    type:ilefolder\n",
    "outputs:\n",
    "  train:\n",
    "    type: uri_folder\n",
    "  test:\n",
    "    type: uri_folder\n",
    "code: .\n",
    "environment:\n",
    "  # for this step, we'll use an AzureML curate environment\n",
    "  azureml:AzureML-sklearn-1.0-ubuntu20.04-py38-cpu:1\n",
    "command: >-\n",
    "  python run.py \n",
    "  --train_data ${{inputs.train_data}} --train ${{outputs.train}} --test ${{outputs.test}}\n",
    "```\n",
    "The `run.py` file is defined as given below in `./components/data_prep/run.py`\n",
    "\n",
    "```python\n",
    "import pandas as pd \n",
    "from sklearn.model_selection import train_test_split\n",
    "import numpy as np\n",
    "from argparse import ArgumentParser\n",
    "import os\n",
    "\n",
    "\n",
    "def main():\n",
    "    parser = ArgumentParser()\n",
    "    parser.add_argument(\"train_data\",help=\"path to train data\")\n",
    "    parser.add_argument(\"train\",help=\"path of train data\")\n",
    "    parser.add_argument(\"test\",help=\"path of test data\")\n",
    "    args = parser.parse_args()\n",
    "    train_df = pd.read_csv(args.train_data)\n",
    "    y = train_df['price_range'].values\n",
    "    X = train_df.drop('price_range',axis=1).values \n",
    "    X_train,X_test,y_train,y_test = train_test_split(X,y,test_size=0.2)\n",
    "    np.save(os.path.join(args.train,\"X_train.npy\"),X_train)\n",
    "    np.save(os.path.join(args.test,\"X_test.npy\"),X_test)\n",
    "    np.save(os.path.join(args.train,\"y_train.npy\"),y_train)\n",
    "    np.save(os.path.join(args.test,\"y_test.npy\"),y_test)\n",
    "if __name__==\"__main__\":\n",
    "    main()_```main__\":\n",
    "    main()\n",
    "\n"
   ]
  },
  {
   "cell_type": "markdown",
   "id": "e2d7be2a-d662-4258-a708-7154370cc8b6",
   "metadata": {},
   "source": [
    "### Loading the component"
   ]
  },
  {
   "cell_type": "code",
   "execution_count": 6,
   "id": "bbd61d72-afe5-45d8-92b8-ef2c074115cc",
   "metadata": {},
   "outputs": [],
   "source": [
    "data_prep_component = load_component(source=\"./components/data_prep/run.yaml\")"
   ]
  },
  {
   "cell_type": "markdown",
   "id": "d1199727-4505-4653-ac36-267bb8f61c8c",
   "metadata": {},
   "source": [
    "### Register the component"
   ]
  },
  {
   "cell_type": "code",
   "execution_count": 7,
   "id": "bdce37a0-ba0d-4c45-9f35-d8f781f8f16f",
   "metadata": {},
   "outputs": [
    {
     "name": "stderr",
     "output_type": "stream",
     "text": [
      "\u001b[32mUploading data_prep (0.0 MBs): 100%|███████████| 3053/3053 [00:01<00:00, 2553.58it/s]\u001b[0m\n",
      "\u001b[39m\n",
      "\n"
     ]
    }
   ],
   "source": [
    "# Now we register the component to the workspace\n",
    "data_prep_component = ml_client.create_or_update(data_prep_component)"
   ]
  },
  {
   "cell_type": "markdown",
   "id": "b08b635f-4593-473b-a9b2-45d0207c7f55",
   "metadata": {},
   "source": [
    "### Component in the workspace\n",
    "\n",
    "![](../../../../images/pipeline_component_1.PNG)"
   ]
  },
  {
   "cell_type": "code",
   "execution_count": 8,
   "id": "81a062bc-36b5-47cb-a075-0fd55ca29af5",
   "metadata": {},
   "outputs": [],
   "source": [
    "comp = ml_client.components.get(\"data_prep_mobile_pricing\")"
   ]
  },
  {
   "cell_type": "code",
   "execution_count": 9,
   "id": "40ad09a5-d189-46fd-8a67-d7e7b403b8f4",
   "metadata": {},
   "outputs": [
    {
     "data": {
      "text/plain": [
       "CommandComponent({'intellectual_property': None, 'auto_increment_version': False, 'source': 'REMOTE.WORKSPACE.COMPONENT', 'is_anonymous': False, 'auto_delete_setting': None, 'name': 'data_prep_mobile_pricing', 'description': None, 'tags': {}, 'properties': {}, 'print_as_yaml': True, 'id': '/subscriptions/0aa1c63a-7a46-403c-91e4-8ec91264bc42/resourceGroups/rg-mobile-pricing-dev/providers/Microsoft.MachineLearningServices/workspaces/mobile-pricing-azml-dev/components/data_prep_mobile_pricing/labels/default', 'Resource__source_path': None, 'base_path': '/Users/gunnvantsaini/Library/CloudStorage/OneDrive-Personal/consulting/setu/mlops_azure/content/01_Mlops_Using_Cloud_Tools/components_azure_ml/notebooks', 'creation_context': <azure.ai.ml._restclient.v2022_10_01.models._models_py3.SystemData object at 0x1324b6260>, 'serialize': <msrest.serialization.Serializer object at 0x1324b5720>, 'command': 'python run.py  --train_data ${{inputs.train_data}}  --train ${{outputs.train}}  --test ${{outputs.test}}', 'code': '/subscriptions/0aa1c63a-7a46-403c-91e4-8ec91264bc42/resourceGroups/rg-mobile-pricing-dev/providers/Microsoft.MachineLearningServices/workspaces/mobile-pricing-azml-dev/codes/d4c5e461-e01a-463f-ba8a-155ea1b06d2d/versions/1', 'environment_variables': None, 'environment': 'azureml://registries/azureml/environments/AzureML-sklearn-1.0-ubuntu20.04-py38-cpu/versions/1', 'distribution': None, 'resources': {'instance_count': 1}, 'queue_settings': None, 'version': '2024-02-25-11-57-20-8473747', 'latest_version': None, 'schema': None, 'type': 'command', 'display_name': 'Prepare data for mobile pricing model', 'is_deterministic': True, 'inputs': {'train_data': {'type': 'uri_folder', 'optional': False}}, 'outputs': {'train': {'type': 'uri_folder'}, 'test': {'type': 'uri_folder'}}, 'yaml_str': None, 'other_parameter': {}, 'additional_includes': []})"
      ]
     },
     "execution_count": 9,
     "metadata": {},
     "output_type": "execute_result"
    }
   ],
   "source": [
    "comp"
   ]
  },
  {
   "cell_type": "markdown",
   "id": "7ed450c7-64e1-43db-b524-54be7fcb8003",
   "metadata": {},
   "source": [
    "### Define training component\n",
    "\n",
    "```yaml\n",
    "name: model_training_mobile_pricing\n",
    "display_name: Training classifier on mobile pricing data\n",
    "version: 1 # Not specifying a version will automatically update the version\n",
    "type: command\n",
    "inputs:\n",
    "  train: \n",
    "    type: uri_folder\n",
    "  test:\n",
    "    type: uri_folder\n",
    "  model_name:\n",
    "    type: string\n",
    "outputs:\n",
    "  model:\n",
    "    type: uri_folder\n",
    "code: .\n",
    "environment:\n",
    "  # for this step, we'll use an AzureML curate environment\n",
    "  azureml:AzureML-sklearn-1.0-ubuntu20.04-py38-cpu:1\n",
    "command: >-\n",
    "  python run.py \n",
    "  --train ${{inputs.train}} --test ${{inputs.test}} --model_name ${{inputs.model_name}} --model ${{outputs.model}}\n",
    "```\n",
    "\n",
    "```python\n",
    "import numpy as np \n",
    "import mlflow\n",
    "from sklearn.linear_model import LogisticRegression\n",
    "import os\n",
    "from argparse import ArgumentParser\n",
    "\n",
    "# Start Logging\n",
    "mlflow.start_run()\n",
    "\n",
    "# enable autologging\n",
    "mlflow.sklearn.autolog()\n",
    "\n",
    "os.makedirs(\"./outputs\", exist_ok=True)\n",
    "\n",
    "def main():\n",
    "    parser = ArgumentParser()\n",
    "    parser.add_argument(\"train\",help=\"Path to train data\")\n",
    "    parser.add_argument(\"test\",help=\"Path to test data\")\n",
    "    parser.add_argument(\"model_name\",help=\"Name of the model\")\n",
    "    parser.add_argument(\"model\",help=\"Path to trained model\")\n",
    "    args = parser.parse_args()\n",
    "    X_train = np.load(os.path.join(args.train,\"X_train.npy\"))\n",
    "    X_test = np.load(os.path.join(args.test,\"X_test.npy\"))\n",
    "    y_train = np.load(os.path.join(args.train,\"y_train.npy\"))\n",
    "    y_test = np.load(os.path.join(args.test,\"y_test.npy\"))\n",
    "    clf = LogisticRegression()\n",
    "    clf.fit(X_train,y_train)\n",
    "    y_pred = clf.predict(X_test)\n",
    "    mlflow.sklearn.log_model(\n",
    "        sk_model=clf,\n",
    "        registered_model_name=args.model_name,\n",
    "        artifact_path=args.model_name,\n",
    "    )\n",
    "\n",
    "    # Saving the model to a file\n",
    "    mlflow.sklearn.save_model(\n",
    "        sk_model=clf,\n",
    "        path=os.path.join(args.model, \"trained_model\"),\n",
    "    )\n",
    "\n",
    "    # Stop Logging\n",
    "    mlflow.end_run()\n",
    "\n",
    "if __name__==\"__main__\":\n",
    "    main()\n",
    "```"
   ]
  },
  {
   "cell_type": "markdown",
   "id": "51b43bc5-8a09-4d0b-abac-5b464d1848cc",
   "metadata": {},
   "source": [
    "### Loading the component"
   ]
  },
  {
   "cell_type": "code",
   "execution_count": 10,
   "id": "ebd8d58d-6b70-4af5-a23b-721dbb16ac7f",
   "metadata": {},
   "outputs": [],
   "source": [
    "model_training_component = load_component(source=\"./components/model_training/run.yaml\")"
   ]
  },
  {
   "cell_type": "markdown",
   "id": "2758726b-fc27-45a8-98d3-31ce6546fc28",
   "metadata": {},
   "source": [
    "### Register Component"
   ]
  },
  {
   "cell_type": "code",
   "execution_count": 11,
   "id": "0b62ff2b-5083-4a84-abc8-5b864d07da60",
   "metadata": {},
   "outputs": [
    {
     "name": "stderr",
     "output_type": "stream",
     "text": [
      "\u001b[32mUploading model_training (0.0 MBs): 100%|██████| 1946/1946 [00:01<00:00, 1610.85it/s]\u001b[0m\n",
      "\u001b[39m\n",
      "\n"
     ]
    }
   ],
   "source": [
    "model_training_component = ml_client.create_or_update(model_training_component)"
   ]
  },
  {
   "cell_type": "code",
   "execution_count": null,
   "id": "72aeb59b-5c01-46e9-ac26-ff6a29c44c94",
   "metadata": {},
   "outputs": [],
   "source": []
  }
 ],
 "metadata": {
  "kernelspec": {
   "display_name": "Python 3 (ipykernel)",
   "language": "python",
   "name": "python3"
  },
  "language_info": {
   "codemirror_mode": {
    "name": "ipython",
    "version": 3
   },
   "file_extension": ".py",
   "mimetype": "text/x-python",
   "name": "python",
   "nbconvert_exporter": "python",
   "pygments_lexer": "ipython3",
   "version": "3.10.13"
  }
 },
 "nbformat": 4,
 "nbformat_minor": 5
}
