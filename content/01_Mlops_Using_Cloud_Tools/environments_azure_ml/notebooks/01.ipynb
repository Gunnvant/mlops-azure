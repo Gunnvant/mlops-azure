{
 "cells": [
  {
   "cell_type": "markdown",
   "id": "43ba57a6-0cc9-4705-87ed-eed3c8efb4f9",
   "metadata": {},
   "source": [
    "## Working with environments\n",
    "\n",
    "When running a training job, one needs to have a compute target with proper set-up of ml libraries. This is done using the `Environment` abstraction. Below we show how to create a custom environment using the `conda.yaml` file.\n"
   ]
  },
  {
   "cell_type": "code",
   "execution_count": 1,
   "id": "8ccfb3ed-c26c-42e8-b786-c85203a1710c",
   "metadata": {},
   "outputs": [],
   "source": [
    "from azure.ai.ml import MLClient\n",
    "from azure.keyvault.secrets import SecretClient\n",
    "from azure.identity import DefaultAzureCredential\n",
    "from azure.ai.ml.entities import Environment, BuildContext"
   ]
  },
  {
   "cell_type": "markdown",
   "id": "6dcb636a-bcf4-4246-91ff-7a664c76a3a3",
   "metadata": {},
   "source": [
    "### Configure key-vault to get secrets"
   ]
  },
  {
   "cell_type": "code",
   "execution_count": 2,
   "id": "987d94c2-dea1-46d3-90cd-2050778d0740",
   "metadata": {},
   "outputs": [],
   "source": [
    "keyVaultName = \"mobilepricinga6945442583\"\n",
    "KVUri = f\"https://{keyVaultName}.vault.azure.net\"\n",
    "credential = DefaultAzureCredential()\n",
    "client = SecretClient(vault_url=KVUri, credential=credential)"
   ]
  },
  {
   "cell_type": "markdown",
   "id": "c9d2fe45-2804-4123-add3-7e8eb39d9fac",
   "metadata": {},
   "source": [
    "### Authenticate"
   ]
  },
  {
   "cell_type": "code",
   "execution_count": 3,
   "id": "f130bbd7-fd9f-4948-81cf-cabb3c9c6151",
   "metadata": {},
   "outputs": [],
   "source": [
    "credential = DefaultAzureCredential()"
   ]
  },
  {
   "cell_type": "markdown",
   "id": "d62c576b-1bd2-43bc-8f35-b00e43296f64",
   "metadata": {},
   "source": [
    "### Get secrets from key-vault"
   ]
  },
  {
   "cell_type": "code",
   "execution_count": 4,
   "id": "ae61d88b-398e-4233-9dde-53944b808a51",
   "metadata": {},
   "outputs": [],
   "source": [
    "subs_id = client.get_secret(\"subscription-id\").value\n",
    "rg_name = client.get_secret(\"ml-resource-group\").value\n",
    "ws_name = client.get_secret(\"ml-workspace-name\").value"
   ]
  },
  {
   "cell_type": "markdown",
   "id": "ecbff8da-4b92-4647-adf5-c774b2be69a6",
   "metadata": {},
   "source": [
    "### Create client"
   ]
  },
  {
   "cell_type": "code",
   "execution_count": 5,
   "id": "a0a9ab22-ff18-417d-b685-bb5edf740f86",
   "metadata": {},
   "outputs": [],
   "source": [
    "ml_client = MLClient(\n",
    "    credential=credential,\n",
    "    subscription_id=subs_id,\n",
    "    resource_group_name=rg_name,\n",
    "    workspace_name=ws_name,\n",
    ")"
   ]
  },
  {
   "cell_type": "markdown",
   "id": "bc4af0c7-c349-43e7-be0f-d697c30447b5",
   "metadata": {},
   "source": [
    "### Provide environment definition"
   ]
  },
  {
   "cell_type": "code",
   "execution_count": 6,
   "id": "ce95cd7f-2cac-49ad-8e15-82f9c62c95f0",
   "metadata": {},
   "outputs": [],
   "source": [
    "env_docker_conda = Environment(\n",
    "    image=\"mcr.microsoft.com/azureml/openmpi4.1.0-ubuntu20.04\",\n",
    "    conda_file=\"./conda-yamls/env.yaml\",\n",
    "    name=\"mobile-pricing-env\",\n",
    "    description=\"Environment created from a Docker image plus Conda environment.\",\n",
    ")"
   ]
  },
  {
   "cell_type": "markdown",
   "id": "c4efa19c-b977-4efb-b28b-259d664dabf4",
   "metadata": {},
   "source": [
    "### Create Environment"
   ]
  },
  {
   "cell_type": "code",
   "execution_count": 7,
   "id": "dc4f2dc8-570b-43e4-81c3-93701881c634",
   "metadata": {},
   "outputs": [
    {
     "data": {
      "text/plain": [
       "Environment({'intellectual_property': None, 'is_anonymous': False, 'auto_increment_version': False, 'auto_delete_setting': None, 'name': 'mobile-pricing-env', 'description': 'Environment created from a Docker image plus Conda environment.', 'tags': {}, 'properties': {'azureml.labels': 'latest'}, 'print_as_yaml': True, 'id': '/subscriptions/0aa1c63a-7a46-403c-91e4-8ec91264bc42/resourceGroups/rg-mobile-pricing-dev/providers/Microsoft.MachineLearningServices/workspaces/mobile-pricing-azml-dev/environments/mobile-pricing-env/versions/1', 'Resource__source_path': None, 'base_path': 'C:\\\\Users\\\\gunnv\\\\OneDrive\\\\consulting\\\\setu\\\\mlops_azure\\\\content\\\\01_Mlops_Using_Cloud_Tools\\\\environments_azure_ml\\\\notebooks', 'creation_context': <azure.ai.ml.entities._system_data.SystemData object at 0x000001F6F911AA10>, 'serialize': <msrest.serialization.Serializer object at 0x000001F6F911A350>, 'version': '1', 'latest_version': None, 'conda_file': {'channels': ['conda-forge'], 'dependencies': ['pip=23.0', 'python=3.10', 'pandas=2.2.0', 'jupyterlab=4.0.11', 'scikit-learn=1.4.0', {'pip': ['azure-ai-ml<=1.12.1', 'azure-identity<=1.15.0', 'pyarrow<=15.0.0', 'azure-keyvault-secrets<=4.7.0', 'azureml-fsspec<=1.3.0', 'mlflow==1.20.2', 'azureml-mlflow==1.34.0']}], 'name': 'mobile-pricing-env'}, 'image': 'mcr.microsoft.com/azureml/openmpi4.1.0-ubuntu20.04', 'build': None, 'inference_config': None, 'os_type': 'Linux', 'arm_type': 'environment_version', 'conda_file_path': None, 'path': None, 'datastore': None, 'upload_hash': None, 'translated_conda_file': '{\\n  \"channels\": [\\n    \"conda-forge\"\\n  ],\\n  \"dependencies\": [\\n    \"pip=23.0\",\\n    \"python=3.10\",\\n    \"pandas=2.2.0\",\\n    \"jupyterlab=4.0.11\",\\n    \"scikit-learn=1.4.0\",\\n    {\\n      \"pip\": [\\n        \"azure-ai-ml<=1.12.1\",\\n        \"azure-identity<=1.15.0\",\\n        \"pyarrow<=15.0.0\",\\n        \"azure-keyvault-secrets<=4.7.0\",\\n        \"azureml-fsspec<=1.3.0\",\\n        \"mlflow==1.20.2\",\\n        \"azureml-mlflow==1.34.0\"\\n      ]\\n    }\\n  ],\\n  \"name\": \"mobile-pricing-env\"\\n}'})"
      ]
     },
     "execution_count": 7,
     "metadata": {},
     "output_type": "execute_result"
    }
   ],
   "source": [
    "ml_client.environments.create_or_update(env_docker_conda)"
   ]
  },
  {
   "cell_type": "markdown",
   "id": "f246ca79-1004-4ae1-9402-6d5174aee8b4",
   "metadata": {},
   "source": [
    "### List environments"
   ]
  },
  {
   "cell_type": "code",
   "execution_count": 8,
   "id": "7ef2796b-be92-4b1c-b8dc-41367c15aba8",
   "metadata": {},
   "outputs": [
    {
     "name": "stdout",
     "output_type": "stream",
     "text": [
      "mobile-pricing-env\n",
      "AzureML-AI-Studio-Development\n",
      "AzureML-ACPT-pytorch-1.13-py38-cuda11.7-gpu\n",
      "AzureML-ACPT-pytorch-1.12-py38-cuda11.6-gpu\n",
      "AzureML-ACPT-pytorch-1.12-py39-cuda11.6-gpu\n",
      "AzureML-ACPT-pytorch-1.11-py38-cuda11.5-gpu\n",
      "AzureML-ACPT-pytorch-1.11-py38-cuda11.3-gpu\n",
      "AzureML-responsibleai-0.21-ubuntu20.04-py38-cpu\n",
      "AzureML-responsibleai-0.20-ubuntu20.04-py38-cpu\n",
      "AzureML-tensorflow-2.5-ubuntu20.04-py38-cuda11-gpu\n",
      "AzureML-tensorflow-2.6-ubuntu20.04-py38-cuda11-gpu\n",
      "AzureML-tensorflow-2.7-ubuntu20.04-py38-cuda11-gpu\n",
      "AzureML-sklearn-1.0-ubuntu20.04-py38-cpu\n",
      "AzureML-pytorch-1.10-ubuntu18.04-py38-cuda11-gpu\n",
      "AzureML-pytorch-1.9-ubuntu18.04-py37-cuda11-gpu\n",
      "AzureML-pytorch-1.8-ubuntu18.04-py37-cuda11-gpu\n",
      "AzureML-sklearn-0.24-ubuntu18.04-py37-cpu\n",
      "AzureML-lightgbm-3.2-ubuntu18.04-py37-cpu\n",
      "AzureML-pytorch-1.7-ubuntu18.04-py37-cuda11-gpu\n",
      "AzureML-tensorflow-2.4-ubuntu18.04-py37-cuda11-gpu\n",
      "AzureML-Triton\n",
      "AzureML-Designer-Score\n",
      "AzureML-VowpalWabbit-8.8.0\n",
      "AzureML-PyTorch-1.3-CPU\n"
     ]
    }
   ],
   "source": [
    "envs = ml_client.environments.list()\n",
    "for env in envs:\n",
    "    print(env.name)"
   ]
  },
  {
   "cell_type": "markdown",
   "id": "bd9dd394-b4de-4221-88ef-f1d80565f063",
   "metadata": {},
   "source": [
    "### Get detail of Environment"
   ]
  },
  {
   "cell_type": "code",
   "execution_count": 9,
   "id": "13ca0edd-1a61-4af9-9efb-47a578360dee",
   "metadata": {},
   "outputs": [
    {
     "name": "stdout",
     "output_type": "stream",
     "text": [
      "conda_file:\n",
      "  channels:\n",
      "  - conda-forge\n",
      "  dependencies:\n",
      "  - pip=23.0\n",
      "  - python=3.10\n",
      "  - pandas=2.2.0\n",
      "  - jupyterlab=4.0.11\n",
      "  - scikit-learn=1.4.0\n",
      "  - pip:\n",
      "    - azure-ai-ml<=1.12.1\n",
      "    - azure-identity<=1.15.0\n",
      "    - pyarrow<=15.0.0\n",
      "    - azure-keyvault-secrets<=4.7.0\n",
      "    - azureml-fsspec<=1.3.0\n",
      "    - mlflow==1.20.2\n",
      "    - azureml-mlflow==1.34.0\n",
      "  name: mobile-pricing-env\n",
      "creation_context:\n",
      "  created_at: '2024-02-21T16:57:14.338465+00:00'\n",
      "  created_by: 742c9ea4-f4aa-4a4b-aed6-eeb553fedfb7 0655f5fd-f15a-4c34-9e4c-ac3c6ba7b209\n",
      "  created_by_type: User\n",
      "  last_modified_at: '2024-02-21T16:57:14.338465+00:00'\n",
      "  last_modified_by: 742c9ea4-f4aa-4a4b-aed6-eeb553fedfb7 0655f5fd-f15a-4c34-9e4c-ac3c6ba7b209\n",
      "  last_modified_by_type: User\n",
      "description: Environment created from a Docker image plus Conda environment.\n",
      "id: azureml:/subscriptions/0aa1c63a-7a46-403c-91e4-8ec91264bc42/resourceGroups/rg-mobile-pricing-dev/providers/Microsoft.MachineLearningServices/workspaces/mobile-pricing-azml-dev/environments/mobile-pricing-env/versions/1\n",
      "image: mcr.microsoft.com/azureml/openmpi4.1.0-ubuntu20.04\n",
      "name: mobile-pricing-env\n",
      "os_type: linux\n",
      "tags: {}\n",
      "version: '1'\n",
      "\n"
     ]
    }
   ],
   "source": [
    "env = ml_client.environments.get(name=\"mobile-pricing-env\", version=\"1\")\n",
    "print(env)"
   ]
  },
  {
   "cell_type": "code",
   "execution_count": null,
   "id": "8c73a129-f8fb-4454-8117-75b0f42501ba",
   "metadata": {},
   "outputs": [],
   "source": []
  }
 ],
 "metadata": {
  "kernelspec": {
   "display_name": "Python 3 (ipykernel)",
   "language": "python",
   "name": "python3"
  },
  "language_info": {
   "codemirror_mode": {
    "name": "ipython",
    "version": 3
   },
   "file_extension": ".py",
   "mimetype": "text/x-python",
   "name": "python",
   "nbconvert_exporter": "python",
   "pygments_lexer": "ipython3",
   "version": "3.10.13"
  }
 },
 "nbformat": 4,
 "nbformat_minor": 5
}
