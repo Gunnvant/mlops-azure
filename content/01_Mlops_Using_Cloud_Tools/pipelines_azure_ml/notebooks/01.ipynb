{
 "cells": [
  {
   "cell_type": "markdown",
   "id": "53b8eb64-7a66-42a6-9af4-e6b62d8fba1f",
   "metadata": {},
   "source": [
    "## Training pipeline"
   ]
  },
  {
   "cell_type": "code",
   "execution_count": 1,
   "id": "b8bb7f0a-30f1-4903-aaee-8ae51df64027",
   "metadata": {},
   "outputs": [],
   "source": [
    "from azure.ai.ml import MLClient\n",
    "from azure.identity import DefaultAzureCredential\n",
    "from azure.ai.ml.dsl import pipeline\n",
    "from azure.ai.ml import load_component\n",
    "from azure.keyvault.secrets import SecretClient"
   ]
  },
  {
   "cell_type": "markdown",
   "id": "a8e08502-0ed9-4a83-b98c-8eb503edd765",
   "metadata": {},
   "source": [
    "### Configure key-vault to get secrets"
   ]
  },
  {
   "cell_type": "code",
   "execution_count": 2,
   "id": "7f7eb9fe-68b4-4e6a-9d0f-cb13238e303c",
   "metadata": {},
   "outputs": [],
   "source": [
    "keyVaultName = \"mobilepricinga6945442583\"\n",
    "KVUri = f\"https://{keyVaultName}.vault.azure.net\"\n",
    "credential = DefaultAzureCredential()\n",
    "client = SecretClient(vault_url=KVUri, credential=credential)"
   ]
  },
  {
   "cell_type": "markdown",
   "id": "420db3e1-3ef5-4691-8157-0e99e1d4fc7e",
   "metadata": {},
   "source": [
    "### Authenticate"
   ]
  },
  {
   "cell_type": "code",
   "execution_count": 3,
   "id": "8b9db9a6-dd80-489a-8e48-557b48299329",
   "metadata": {},
   "outputs": [],
   "source": [
    "credential = DefaultAzureCredential()"
   ]
  },
  {
   "cell_type": "markdown",
   "id": "6f8ef117-9001-4542-8677-9bbc8a1c4aca",
   "metadata": {},
   "source": [
    "### Get Secrets from key-vault"
   ]
  },
  {
   "cell_type": "code",
   "execution_count": 4,
   "id": "0cc4436e-630c-412d-90b9-3339fa7b680b",
   "metadata": {},
   "outputs": [],
   "source": [
    "subs_id = client.get_secret(\"subscription-id\").value\n",
    "rg_name = client.get_secret(\"ml-resource-group\").value\n",
    "ws_name = client.get_secret(\"ml-workspace-name\").value"
   ]
  },
  {
   "cell_type": "markdown",
   "id": "f2635027-e718-4eb7-a3e7-db6cf35d22d9",
   "metadata": {},
   "source": [
    "### Create Client"
   ]
  },
  {
   "cell_type": "code",
   "execution_count": 5,
   "id": "e418414b-7855-4c6b-995b-372ddb17569a",
   "metadata": {},
   "outputs": [],
   "source": [
    "ml_client = MLClient(\n",
    "    credential=credential,\n",
    "    subscription_id=subs_id,\n",
    "    resource_group_name=rg_name,\n",
    "    workspace_name=ws_name,\n",
    ")"
   ]
  },
  {
   "cell_type": "markdown",
   "id": "2d41eee3-e806-4f41-8ce4-70fdf3576496",
   "metadata": {},
   "source": [
    "### Get Data Asset"
   ]
  },
  {
   "cell_type": "code",
   "execution_count": 6,
   "id": "d0f3aa56-1dbc-43b0-983d-3a59f674350a",
   "metadata": {},
   "outputs": [],
   "source": [
    "data_asset = ml_client.data.get(\"mobile_pricing_train_data_v1\", version=\"1\")"
   ]
  },
  {
   "cell_type": "markdown",
   "id": "eb344853-7cad-40c5-82cd-7a77e9c70960",
   "metadata": {},
   "source": [
    "### Load Components"
   ]
  },
  {
   "cell_type": "code",
   "execution_count": 7,
   "id": "17407c26-2014-4f7e-9f22-fcc2044c0d7f",
   "metadata": {},
   "outputs": [],
   "source": [
    "data_prep_component = ml_client.components.get(\"data_prep_mobile_pricing\")"
   ]
  },
  {
   "cell_type": "code",
   "execution_count": 8,
   "id": "681e3d45-d0d0-4cc3-ae3d-c060867a09e7",
   "metadata": {},
   "outputs": [],
   "source": [
    "model_training_component =ml_client.components.get(\"model_training_mobile_pricing\")"
   ]
  },
  {
   "cell_type": "markdown",
   "id": "dde85609-e4cc-4265-9117-8579c8fe9797",
   "metadata": {},
   "source": [
    "### Create Pipeline"
   ]
  },
  {
   "cell_type": "code",
   "execution_count": 9,
   "id": "4673ba5d-6fb9-43d6-86f2-30a6c8693c44",
   "metadata": {},
   "outputs": [],
   "source": [
    "from azure.ai.ml import dsl, Input, Output"
   ]
  },
  {
   "cell_type": "code",
   "execution_count": 10,
   "id": "f6d1a5d6-431b-4c74-9c68-4426c573fc4b",
   "metadata": {},
   "outputs": [],
   "source": [
    "@dsl.pipeline(compute=\"serverless\",description=\"Mobile Pricing Pipeline\")\n",
    "def create_pipeline(pipeline_input_data,model_name):\n",
    "    data_prep_job = data_prep_component(train_data = pipeline_input_data)\n",
    "    model_train_job = model_training_component(train = data_prep_job.outputs.train,\n",
    "                                               test = data_prep_job.outputs.test,\n",
    "                                              model_name=model_name)\n",
    "    res = {\"pipeline_job_train\":data_prep_job.outputs.train,\n",
    "          \"pipeline_job_test\":data_prep_job.outputs.test}\n",
    "    return res"
   ]
  },
  {
   "cell_type": "code",
   "execution_count": 11,
   "id": "8f23b3cc-dce8-4c67-aa34-2bdb6981f011",
   "metadata": {},
   "outputs": [],
   "source": [
    "model_name = \"mobile_pricing_model\"\n",
    "pipeline = create_pipeline(pipeline_input_data=Input(path=data_asset.path,type=\"uri_file\"),model_name=model_name)"
   ]
  },
  {
   "cell_type": "code",
   "execution_count": 12,
   "id": "a88e497c-cc74-43a0-b28e-1d5793229653",
   "metadata": {},
   "outputs": [
    {
     "name": "stderr",
     "output_type": "stream",
     "text": [
      "Class AutoDeleteSettingSchema: This is an experimental class, and may change at any time. Please see https://aka.ms/azuremlexperimental for more information.\n",
      "Class AutoDeleteConditionSchema: This is an experimental class, and may change at any time. Please see https://aka.ms/azuremlexperimental for more information.\n",
      "Class BaseAutoDeleteSettingSchema: This is an experimental class, and may change at any time. Please see https://aka.ms/azuremlexperimental for more information.\n",
      "Class IntellectualPropertySchema: This is an experimental class, and may change at any time. Please see https://aka.ms/azuremlexperimental for more information.\n",
      "Class ProtectionLevelSchema: This is an experimental class, and may change at any time. Please see https://aka.ms/azuremlexperimental for more information.\n",
      "Class BaseIntellectualPropertySchema: This is an experimental class, and may change at any time. Please see https://aka.ms/azuremlexperimental for more information.\n"
     ]
    }
   ],
   "source": [
    "pipeline_job = ml_client.jobs.create_or_update(\n",
    "    pipeline,\n",
    "    # Project's name\n",
    "    experiment_name=\"Mobile pricing\",\n",
    ")"
   ]
  },
  {
   "cell_type": "code",
   "execution_count": 13,
   "id": "1a6d9302-1a15-4969-b7e5-7e10d32a8a77",
   "metadata": {},
   "outputs": [
    {
     "name": "stdout",
     "output_type": "stream",
     "text": [
      "RunId: sincere_receipt_sx9yrn82pc\n",
      "Web View: https://ml.azure.com/runs/sincere_receipt_sx9yrn82pc?wsid=/subscriptions/0aa1c63a-7a46-403c-91e4-8ec91264bc42/resourcegroups/rg-mobile-pricing-dev/workspaces/mobile-pricing-azml-dev\n",
      "\n",
      "Streaming logs/azureml/executionlogs.txt\n",
      "========================================\n",
      "\n",
      "[2024-02-28 07:39:07Z] Submitting 1 runs, first five are: afbf0205:8e9d25fc-fa43-4140-a34e-33eab99077af\n",
      "[2024-02-28 07:45:01Z] Completing processing run id 8e9d25fc-fa43-4140-a34e-33eab99077af.\n",
      "[2024-02-28 07:45:01Z] Submitting 1 runs, first five are: 15639a0d:78cb94e5-27fb-4ee1-a13b-a3c72f6b5c79\n",
      "[2024-02-28 07:46:09Z] Completing processing run id 78cb94e5-27fb-4ee1-a13b-a3c72f6b5c79.\n",
      "\n",
      "Execution Summary\n",
      "=================\n",
      "RunId: sincere_receipt_sx9yrn82pc\n",
      "Web View: https://ml.azure.com/runs/sincere_receipt_sx9yrn82pc?wsid=/subscriptions/0aa1c63a-7a46-403c-91e4-8ec91264bc42/resourcegroups/rg-mobile-pricing-dev/workspaces/mobile-pricing-azml-dev\n",
      "\n"
     ]
    }
   ],
   "source": [
    "ml_client.jobs.stream(pipeline_job.name)"
   ]
  },
  {
   "cell_type": "code",
   "execution_count": null,
   "id": "fda87b53-3727-4212-b1dc-d864e57afd66",
   "metadata": {},
   "outputs": [],
   "source": []
  }
 ],
 "metadata": {
  "kernelspec": {
   "display_name": "Python 3 (ipykernel)",
   "language": "python",
   "name": "python3"
  },
  "language_info": {
   "codemirror_mode": {
    "name": "ipython",
    "version": 3
   },
   "file_extension": ".py",
   "mimetype": "text/x-python",
   "name": "python",
   "nbconvert_exporter": "python",
   "pygments_lexer": "ipython3",
   "version": "3.10.13"
  }
 },
 "nbformat": 4,
 "nbformat_minor": 5
}
