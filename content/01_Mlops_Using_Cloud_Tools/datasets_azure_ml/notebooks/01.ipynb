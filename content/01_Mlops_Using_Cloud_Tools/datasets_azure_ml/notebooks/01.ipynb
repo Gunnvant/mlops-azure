{
 "cells": [
  {
   "cell_type": "markdown",
   "metadata": {
    "nteract": {
     "transient": {
      "deleting": false
     }
    }
   },
   "source": [
    "## Working with datasets and datastores\n",
    "This notebook explains how to work  with datasets  stored in azure data lake. \n",
    "\n",
    "## Files on datalake \n",
    "\n",
    "We have created a storage account named `shareddatalakedev`. This will simulate a datalake for us. Usually, files for ml are provisioned by a data engineering team and data science teams use the datasets maintained by them.\n",
    "\n",
    "These datasets are maintained on a datalake. So the starting point for any ml/mlops project is the dataset provisioned by the data engineering team.\n",
    "\n",
    "In our case `shareddatalakedev` represents a datalake. In this storage account we have containers named:\n",
    "\n",
    "- silver\n",
    "- bronze\n",
    "\n",
    "The silver container contains the modelling data in our case. There are datasets present for the month of january for both model training and testing.\n",
    "\n",
    "We will need to pull data from this container and register it in azure-ml workspace.\n",
    "\n",
    "## Register blob storage as a datastore\n",
    "\n",
    "Register data in `shareddatalakedev/sliver` as a datastore\n",
    "\n",
    "For this you will need to access the storage account key. Use azure cli `az storage account keys list --resource-group <resource group containing storage account> --account-name <storageaccountname>` to view the keys\n"
   ]
  },
  {
   "cell_type": "code",
   "execution_count": 2,
   "metadata": {
    "collapsed": false,
    "jupyter": {
     "outputs_hidden": false,
     "source_hidden": false
    },
    "nteract": {
     "transient": {
      "deleting": false
     }
    }
   },
   "outputs": [
    {
     "data": {
      "text/plain": [
       "AzureBlobDatastore({'type': <DatastoreType.AZURE_BLOB: 'AzureBlob'>, 'name': 'mobile_pricing', 'description': 'training dataset stored in blob store', 'tags': {}, 'properties': {}, 'print_as_yaml': True, 'id': '/subscriptions/0aa1c63a-7a46-403c-91e4-8ec91264bc42/resourceGroups/rg-mobile-pricing-dev/providers/Microsoft.MachineLearningServices/workspaces/mobile-pricing-azml-dev/datastores/mobile_pricing', 'Resource__source_path': None, 'base_path': 'C:\\\\Users\\\\gunnv\\\\OneDrive\\\\consulting\\\\setu\\\\mlops_azure\\\\content\\\\01_Mlops_Using_Cloud_Tools\\\\datasets_azure_ml\\\\notebooks', 'creation_context': None, 'serialize': <msrest.serialization.Serializer object at 0x000002551ABF1B70>, 'credentials': {'type': 'account_key'}, 'container_name': 'silver', 'account_name': 'shareddatalakedev', 'endpoint': 'core.windows.net', 'protocol': 'https'})"
      ]
     },
     "execution_count": 2,
     "metadata": {},
     "output_type": "execute_result"
    }
   ],
   "source": [
    "## create a client\n",
    "from azure.ai.ml import MLClient\n",
    "from azure.identity import DefaultAzureCredential\n",
    "from azure.ai.ml.entities import AzureBlobDatastore\n",
    "from azure.ai.ml.entities import AccountKeyConfiguration\n",
    "\n",
    "credential = DefaultAzureCredential()\n",
    "\n",
    "subs_id = '0aa1c63a-7a46-403c-91e4-8ec91264bc42'\n",
    "rg_name = 'rg-mobile-pricing-dev' \n",
    "ws_name = 'mobile-pricing-azml-dev'\n",
    "ml_client = MLClient(\n",
    "    credential=credential,\n",
    "    subscription_id=subs_id,\n",
    "    resource_group_name=rg_name,\n",
    "    workspace_name=ws_name,\n",
    ")\n",
    "## create a data-store\n",
    "name = \"mobile_pricing\"\n",
    "description = \"training dataset stored in blob store\"\n",
    "account_name = \"shareddatalakedev\"\n",
    "container_name = \"silver\"\n",
    "account_key = \"\"## you need to fill your account key\n",
    "store = AzureBlobDatastore(\n",
    "    name=name,\n",
    "    description=description,\n",
    "    account_name=account_name,\n",
    "    container_name=container_name,\n",
    "    protocol=\"https\",\n",
    "    credentials=AccountKeyConfiguration(account_key=account_key)\n",
    ")\n",
    "\n",
    "ml_client.create_or_update(store)"
   ]
  },
  {
   "cell_type": "markdown",
   "metadata": {},
   "source": [
    "**The datastore will now appear in the azure-ml workspace**\n",
    "\n",
    "![](../../../../images/datastore1.png)\n",
    "\n",
    "**One can click on the datastore and we will be able to see the paths on the silver container in our storage account**\n",
    "\n",
    "![](../../../../images/datastore2.png)"
   ]
  },
  {
   "cell_type": "markdown",
   "metadata": {},
   "source": [
    "After this action you will be able to see the datastore in named `mobile_pricing`.  <to be added: images and text explaning how the UI will look>\n",
    "\n",
    "### Register dataset from datastore\n",
    "\n",
    "Once a datastore has been created, one can register a dataset and then version control it. "
   ]
  },
  {
   "cell_type": "code",
   "execution_count": 3,
   "metadata": {},
   "outputs": [
    {
     "name": "stdout",
     "output_type": "stream",
     "text": [
      "azureml://subscriptions/0aa1c63a-7a46-403c-91e4-8ec91264bc42/resourcegroups/rg-mobile-pricing-dev/workspaces/mobile-pricing-azml-dev/datastores/mobile_pricing/paths/./mobile-pricing-train/01_01_24/train.csv\n"
     ]
    }
   ],
   "source": [
    "from azure.ai.ml.entities import Data\n",
    "from azure.ai.ml.constants import AssetTypes\n",
    "subscription = \"0aa1c63a-7a46-403c-91e4-8ec91264bc42\"\n",
    "resource_group = \"rg-mobile-pricing-dev\"\n",
    "workspace = \"mobile-pricing-azml-dev\"\n",
    "datastore_name = \"mobile_pricing\" \n",
    "path_on_datastore = \"./mobile-pricing-train/01_01_24/train.csv\"## be careful with the path\n",
    "uri = f'azureml://subscriptions/{subscription}/resourcegroups/{resource_group}/workspaces/{workspace}/datastores/{datastore_name}/paths/{path_on_datastore}'\n",
    "print(uri)"
   ]
  },
  {
   "cell_type": "code",
   "execution_count": 4,
   "metadata": {},
   "outputs": [],
   "source": [
    "VERSION=\"1\"\n",
    "mobile_pricing_train_data = Data(path=uri,\n",
    "                         type=AssetTypes.URI_FILE,\n",
    "    description=\"Train data for mobile pricing\",\n",
    "    name=\"mobile_pricing_train_data\",\n",
    "    version=VERSION,\n",
    ")"
   ]
  },
  {
   "cell_type": "code",
   "execution_count": 5,
   "metadata": {},
   "outputs": [
    {
     "data": {
      "text/plain": [
       "Data({'skip_validation': False, 'mltable_schema_url': None, 'referenced_uris': None, 'type': 'uri_file', 'is_anonymous': False, 'auto_increment_version': False, 'auto_delete_setting': None, 'name': 'mobile_pricing_train_data', 'description': 'Train data for mobile pricing', 'tags': {}, 'properties': {}, 'print_as_yaml': True, 'id': '/subscriptions/0aa1c63a-7a46-403c-91e4-8ec91264bc42/resourceGroups/rg-mobile-pricing-dev/providers/Microsoft.MachineLearningServices/workspaces/mobile-pricing-azml-dev/data/mobile_pricing_train_data/versions/1', 'Resource__source_path': None, 'base_path': 'C:\\\\Users\\\\gunnv\\\\OneDrive\\\\consulting\\\\setu\\\\mlops_azure\\\\content\\\\01_Mlops_Using_Cloud_Tools\\\\datasets_azure_ml\\\\notebooks', 'creation_context': <azure.ai.ml.entities._system_data.SystemData object at 0x0000025512701810>, 'serialize': <msrest.serialization.Serializer object at 0x000002551ABBAE90>, 'version': '1', 'latest_version': None, 'path': 'azureml://subscriptions/0aa1c63a-7a46-403c-91e4-8ec91264bc42/resourcegroups/rg-mobile-pricing-dev/workspaces/mobile-pricing-azml-dev/datastores/mobile_pricing/paths/./mobile-pricing-train/01_01_24/train.csv', 'datastore': None})"
      ]
     },
     "execution_count": 5,
     "metadata": {},
     "output_type": "execute_result"
    }
   ],
   "source": [
    "ml_client.data.create_or_update(mobile_pricing_train_data)"
   ]
  },
  {
   "cell_type": "markdown",
   "metadata": {},
   "source": [
    "**Once the dataset is registered we can see it in the datsets tab**\n",
    "![](../../../../images/dataset1.png)\n",
    "\n",
    "**On clicking on the dataste we can see the detailed view**\n",
    "\n",
    "![](../../../../images/dataset2.png)"
   ]
  },
  {
   "cell_type": "code",
   "execution_count": 6,
   "metadata": {},
   "outputs": [],
   "source": [
    "import pandas as pd"
   ]
  },
  {
   "cell_type": "code",
   "execution_count": 7,
   "metadata": {},
   "outputs": [],
   "source": [
    "data_asset = ml_client.data.get(\"mobile_pricing_train_data\", version=\"1\")\n",
    "df = pd.read_csv(data_asset.path)"
   ]
  },
  {
   "cell_type": "code",
   "execution_count": 8,
   "metadata": {},
   "outputs": [
    {
     "data": {
      "text/html": [
       "<div>\n",
       "<style scoped>\n",
       "    .dataframe tbody tr th:only-of-type {\n",
       "        vertical-align: middle;\n",
       "    }\n",
       "\n",
       "    .dataframe tbody tr th {\n",
       "        vertical-align: top;\n",
       "    }\n",
       "\n",
       "    .dataframe thead th {\n",
       "        text-align: right;\n",
       "    }\n",
       "</style>\n",
       "<table border=\"1\" class=\"dataframe\">\n",
       "  <thead>\n",
       "    <tr style=\"text-align: right;\">\n",
       "      <th></th>\n",
       "      <th>battery_power</th>\n",
       "      <th>blue</th>\n",
       "      <th>clock_speed</th>\n",
       "      <th>dual_sim</th>\n",
       "      <th>fc</th>\n",
       "      <th>four_g</th>\n",
       "      <th>int_memory</th>\n",
       "      <th>m_dep</th>\n",
       "      <th>mobile_wt</th>\n",
       "      <th>n_cores</th>\n",
       "      <th>...</th>\n",
       "      <th>px_height</th>\n",
       "      <th>px_width</th>\n",
       "      <th>ram</th>\n",
       "      <th>sc_h</th>\n",
       "      <th>sc_w</th>\n",
       "      <th>talk_time</th>\n",
       "      <th>three_g</th>\n",
       "      <th>touch_screen</th>\n",
       "      <th>wifi</th>\n",
       "      <th>price_range</th>\n",
       "    </tr>\n",
       "  </thead>\n",
       "  <tbody>\n",
       "    <tr>\n",
       "      <th>0</th>\n",
       "      <td>842</td>\n",
       "      <td>0</td>\n",
       "      <td>2.2</td>\n",
       "      <td>0</td>\n",
       "      <td>1</td>\n",
       "      <td>0</td>\n",
       "      <td>7</td>\n",
       "      <td>0.6</td>\n",
       "      <td>188</td>\n",
       "      <td>2</td>\n",
       "      <td>...</td>\n",
       "      <td>20</td>\n",
       "      <td>756</td>\n",
       "      <td>2549</td>\n",
       "      <td>9</td>\n",
       "      <td>7</td>\n",
       "      <td>19</td>\n",
       "      <td>0</td>\n",
       "      <td>0</td>\n",
       "      <td>1</td>\n",
       "      <td>1</td>\n",
       "    </tr>\n",
       "    <tr>\n",
       "      <th>1</th>\n",
       "      <td>1021</td>\n",
       "      <td>1</td>\n",
       "      <td>0.5</td>\n",
       "      <td>1</td>\n",
       "      <td>0</td>\n",
       "      <td>1</td>\n",
       "      <td>53</td>\n",
       "      <td>0.7</td>\n",
       "      <td>136</td>\n",
       "      <td>3</td>\n",
       "      <td>...</td>\n",
       "      <td>905</td>\n",
       "      <td>1988</td>\n",
       "      <td>2631</td>\n",
       "      <td>17</td>\n",
       "      <td>3</td>\n",
       "      <td>7</td>\n",
       "      <td>1</td>\n",
       "      <td>1</td>\n",
       "      <td>0</td>\n",
       "      <td>2</td>\n",
       "    </tr>\n",
       "  </tbody>\n",
       "</table>\n",
       "<p>2 rows × 21 columns</p>\n",
       "</div>"
      ],
      "text/plain": [
       "   battery_power  blue  clock_speed  dual_sim  fc  four_g  int_memory  m_dep  \\\n",
       "0            842     0          2.2         0   1       0           7    0.6   \n",
       "1           1021     1          0.5         1   0       1          53    0.7   \n",
       "\n",
       "   mobile_wt  n_cores  ...  px_height  px_width   ram  sc_h  sc_w  talk_time  \\\n",
       "0        188        2  ...         20       756  2549     9     7         19   \n",
       "1        136        3  ...        905      1988  2631    17     3          7   \n",
       "\n",
       "   three_g  touch_screen  wifi  price_range  \n",
       "0        0             0     1            1  \n",
       "1        1             1     0            2  \n",
       "\n",
       "[2 rows x 21 columns]"
      ]
     },
     "execution_count": 8,
     "metadata": {},
     "output_type": "execute_result"
    }
   ],
   "source": [
    "df.head(2)"
   ]
  },
  {
   "cell_type": "markdown",
   "metadata": {},
   "source": [
    "## Storing secrets \n",
    "\n",
    "To access the storage account we had to generate a secret access key. Its not a good practice to store the secrets in our notebook/source code. We should ideally store it in some secure place and then retrieve it from there. We can use `azure-key-vault` service to store our secrets.\n",
    "\n",
    "We are going to store the following secrets in key-vault and then access these secrets from there:\n",
    "\n",
    "1. subscription-id\n",
    "2. ml-resource-group\n",
    "3. ml-workspace-name\n",
    "4. storage-account-name\n",
    "5. storage-account-key\n",
    "\n",
    "Whenever azure-ml workspace is created, we get a key-vault as part of azure ml workspace. We can use that keyvault to access the storage account keys."
   ]
  },
  {
   "cell_type": "code",
   "execution_count": 9,
   "metadata": {},
   "outputs": [],
   "source": [
    "from azure.keyvault.secrets import SecretClient\n",
    "from azure.identity import DefaultAzureCredential\n",
    "keyVaultName = \"mobilepricinga6945442583\"\n",
    "KVUri = f\"https://{keyVaultName}.vault.azure.net\"\n",
    "credential = DefaultAzureCredential()\n",
    "client = SecretClient(vault_url=KVUri, credential=credential)\n",
    "account_key = client.get_secret(\"storage-account-key\")"
   ]
  },
  {
   "cell_type": "code",
   "execution_count": null,
   "metadata": {},
   "outputs": [],
   "source": [
    "# account_key.value ->this will have the storage account key"
   ]
  },
  {
   "cell_type": "markdown",
   "metadata": {},
   "source": [
    "## Other ways of accessing data from azure storage account\n",
    "\n",
    "Apart from generating access key and storing it in key-vault, one can do the followin to allow access to data:\n",
    "\n",
    "1. Give ml-workspace `Storage Blob Data Contributor` accesss\n",
    "2. Create a service principal and give it access to the storage account. Save the service principal specific secrets in a key-vault"
   ]
  },
  {
   "cell_type": "code",
   "execution_count": null,
   "metadata": {},
   "outputs": [],
   "source": []
  }
 ],
 "metadata": {
  "kernel_info": {
   "name": "python310-sdkv2"
  },
  "kernelspec": {
   "display_name": "Python 3 (ipykernel)",
   "language": "python",
   "name": "python3"
  },
  "language_info": {
   "codemirror_mode": {
    "name": "ipython",
    "version": 3
   },
   "file_extension": ".py",
   "mimetype": "text/x-python",
   "name": "python",
   "nbconvert_exporter": "python",
   "pygments_lexer": "ipython3",
   "version": "3.10.13"
  },
  "microsoft": {
   "host": {
    "AzureML": {
     "notebookHasBeenCompleted": true
    }
   },
   "ms_spell_check": {
    "ms_spell_check_language": "en"
   }
  },
  "nteract": {
   "version": "nteract-front-end@1.0.0"
  }
 },
 "nbformat": 4,
 "nbformat_minor": 4
}
